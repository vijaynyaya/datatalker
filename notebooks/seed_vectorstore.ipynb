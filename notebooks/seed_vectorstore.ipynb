{
 "cells": [
  {
   "cell_type": "code",
   "execution_count": 8,
   "id": "be684704",
   "metadata": {},
   "outputs": [],
   "source": [
    "from chromadb import PersistentClient\n",
    "from datatalker.config import CHROMADB_DIR\n",
    "from datatalker.ogdp import DocumentAdapter\n",
    "from pymongo import MongoClient"
   ]
  },
  {
   "cell_type": "code",
   "execution_count": 9,
   "id": "49a05b7f",
   "metadata": {},
   "outputs": [],
   "source": [
    "mongo = MongoClient(\"mongodb://localhost:27017/\")\n",
    "db = mongo[\"datatalker\"]\n",
    "chroma = PersistentClient(\n",
    "    path=CHROMADB_DIR\n",
    ")\n",
    "datasets = chroma.get_or_create_collection(\"datasets\")"
   ]
  },
  {
   "cell_type": "code",
   "execution_count": 13,
   "id": "d0bd3905",
   "metadata": {},
   "outputs": [
    {
     "data": {
      "text/plain": [
       "{'ids': [['ogd:catalog:1a3f1bb4-7d27-4e66-ab47-4d2d1083a3d4',\n",
       "   'ogd:catalog:124f35fe-423c-48fd-81d8-276640e4bc01',\n",
       "   'ogd:catalog:826fc11d-34f9-4471-8133-091655a5ae99',\n",
       "   'ogd:catalog:d3f07762-4762-4b11-bf20-0cf588b09a27',\n",
       "   'ogd:catalog:0eb6a940-1ad0-41ab-aa84-6ed1e52fa37b',\n",
       "   'ogd:catalog:75487736-27b6-4a3e-98d0-35a99ba06d45',\n",
       "   'ogd:catalog:9fdf3dac-5500-497d-ba6d-12630b7ba350',\n",
       "   'ogd:catalog:a34cfda4-6794-463e-88ad-6b92e05591c0',\n",
       "   'ogd:catalog:797739c2-2758-4079-86f0-cbe9bb7d01e1',\n",
       "   'ogd:catalog:2f51343f-cc5a-42eb-973b-ad9d256ec663']],\n",
       " 'embeddings': None,\n",
       " 'documents': [[\"Title: Soil Order\\nDescription: This gives information on Soil Order, Soil Sub-order, Soil Great Group and Soil Great Sub Group.\\nKeywords: ['545', 'rweee']\\nFrequency: Others\\nData Source: None\\nOpen Government Data Site: ['data.gov.in']Government Type: ['Central']\\nAsset Jurisdiction Name: ['All India']\\nDs Govt Type: ['Central']\\nGroup Name Name: ['ICAR']\\nMinistry Department Name: ['Ministry of Agriculture and Farmers Welfare', 'Department of Agricultural Research and Education (DARE)', 'Indian Council of Agricultural Research (ICAR)']\\nSector Name: ['Agriculture']\",\n",
       "   \"Title: Area, Production and Productivity of Horticulture and Plantation Crops in Tamil Nadu for the Year 2011-12\\nDescription: Area, Production and Productivity of Horticulture and Plantation Crops details for the Year 2011-12\\nKeywords: ['horticulture and plantation crops 2017']\\nFrequency: Annual\\nData Source: None\\nOpen Government Data Site: ['tn.data.gov.in']Government Type: ['State']\\nAsset Jurisdiction Name: ['Tamil Nadu']\\nDs Govt Type: ['State']\\nSector Name: ['Agriculture', 'Horticulture']\\nState Department Name: ['Tamil Nadu', 'Agriculture Department', 'Horticulture & Plantation Crops']\",\n",
       "   \"Title: Area, Production & Productivity of Horticulture and Plantation Crops in Tamil Nadu for the Year 2013-14\\nDescription: Area, Production & Productivity of Horticulture and Plantation Crops details  for the Year 2013-14\\nKeywords: ['horticulture and plantation crops horticulture 2013-14']\\nFrequency: Annual\\nData Source: None\\nOpen Government Data Site: ['tn.data.gov.in']Government Type: ['State']\\nAsset Jurisdiction Name: ['Tamil Nadu']\\nDs Govt Type: ['State']\\nSector Name: ['Agriculture', 'Horticulture']\\nState Department Name: ['Tamil Nadu', 'Agriculture Department', 'Horticulture & Plantation Crops']\",\n",
       "   \"Title: Area, Production and Productivity of Horticulture and Plantation Crops in Tamil Nadu for the Year 2012-13\\nDescription: Horticulture and Plantation Crops Details in horticulture Department\\nKeywords: ['Horticulture and Plantation Crops 2012-13']\\nFrequency: Annual\\nData Source: None\\nOpen Government Data Site: ['tn.data.gov.in']Government Type: ['State']\\nAsset Jurisdiction Name: ['Tamil Nadu']\\nDs Govt Type: ['State']\\nSector Name: ['Agriculture', 'Horticulture']\\nState Department Name: ['Tamil Nadu', 'Agriculture Department', 'Horticulture & Plantation Crops']\",\n",
       "   \"Title: Area, Production and Productivity of Horticulture and Plantation Crops in Tamil Nadu for the Year 2016-17\\nDescription: Horticulture and Plantation Crops Details in Horticulture Department\\nKeywords: ['Horticulture and Plantation Crops 2016-17']\\nFrequency: Annual\\nData Source: None\\nOpen Government Data Site: ['tn.data.gov.in']Government Type: ['State']\\nAsset Jurisdiction Name: ['Tamil Nadu']\\nDs Govt Type: ['State']\\nSector Name: ['Agriculture', 'Horticulture']\\nState Department Name: ['Tamil Nadu', 'Agriculture Department', 'Horticulture & Plantation Crops']\",\n",
       "   \"Title: Area, Production & Productivity of Horticulture and Plantation Crops in Tamil Nadu for the Year 2014-15\\nDescription: Horticulture and Plantation Crops Details in Horticulture Department\\nKeywords: ['Horticulture and Plantation Crops 2014-15']\\nFrequency: Annual\\nData Source: None\\nOpen Government Data Site: ['tn.data.gov.in']Government Type: ['State']\\nAsset Jurisdiction Name: ['Tamil Nadu']\\nDs Govt Type: ['State']\\nSector Name: ['Agriculture', 'Horticulture']\\nState Department Name: ['Tamil Nadu', 'Agriculture Department', 'Horticulture & Plantation Crops']\",\n",
       "   \"Title: Area, Production & Productivity of Horticulture and Plantation Crops in Tamil Nadu for the Year 2015-16\\nDescription: Area, Production & Productivity of Horticulture and Plantation Crops in Tamil Nadu for the Year 2015-16\\nKeywords: ['area', 'Production & Productivity of Horticulture']\\nFrequency: Annual\\nData Source: None\\nOpen Government Data Site: ['tn.data.gov.in']Government Type: ['State']\\nAsset Jurisdiction Name: ['Tamil Nadu']\\nDs Govt Type: ['State']\\nSector Name: ['Agriculture', 'Horticulture']\\nState Department Name: ['Tamil Nadu', 'Agriculture Department', 'Horticulture & Plantation Crops']\",\n",
       "   \"Title: Area, Production & Productivity of Plantation Crops by District-Wise in Tamil Nadu for the Year 2013-14\\nDescription: Area, Production & Productivity of Plantation Crops details for the Year 2013-14\\nKeywords: ['plantation crops 2013-14 horticulture 2013-14']\\nFrequency: Annual\\nData Source: None\\nOpen Government Data Site: ['tn.data.gov.in']Government Type: ['State']\\nAsset Jurisdiction Name: ['Tamil Nadu']\\nDs Govt Type: ['State']\\nSector Name: ['Agriculture', 'Horticulture']\\nState Department Name: ['Tamil Nadu', 'Agriculture Department', 'Horticulture & Plantation Crops']\",\n",
       "   \"Title: Area, Production and Productivity of Plantation Crops by District-Wise in Tamil Nadu for the Year 2011-12\\nDescription: Area, Production and Productivity of Plantation Crops details for the Year 2011-12\\nKeywords: ['plantation crops 2017 plantation crops horticulture']\\nFrequency: Annual\\nData Source: None\\nOpen Government Data Site: ['tn.data.gov.in']Government Type: ['State']\\nAsset Jurisdiction Name: ['Tamil Nadu']\\nDs Govt Type: ['State']\\nSector Name: ['Agriculture', 'Horticulture']\\nState Department Name: ['Tamil Nadu', 'Agriculture Department', 'Horticulture & Plantation Crops']\",\n",
       "   \"Title: Area, Production and Productivity of Plantation Crops by District-Wise in Tamil Nadu for the Year 2014-15\\nDescription: Plantation Crops Details in Horticulture Department\\nKeywords: ['Plantation Crops Horticulture 2014-15']\\nFrequency: Annual\\nData Source: None\\nOpen Government Data Site: ['tn.data.gov.in']Government Type: ['State']\\nAsset Jurisdiction Name: ['Tamil Nadu']\\nDs Govt Type: ['State']\\nSector Name: ['Agriculture', 'Horticulture']\\nState Department Name: ['Tamil Nadu', 'Agriculture Department', 'Horticulture & Plantation Crops']\"]],\n",
       " 'uris': None,\n",
       " 'included': ['metadatas', 'documents', 'distances'],\n",
       " 'data': None,\n",
       " 'metadatas': [[{'vid': 7902958,\n",
       "    'type': 'dataset',\n",
       "    'uuid': '1a3f1bb4-7d27-4e66-ab47-4d2d1083a3d4',\n",
       "    'website': 'https://data.gov.in/catalog/soil-order',\n",
       "    'nid': 6744832,\n",
       "    'title': 'Soil Order',\n",
       "    'interface': 'ogd:catalog'},\n",
       "   {'vid': 10702868,\n",
       "    'website': 'https://data.gov.in/catalog/area-production-and-productivity-horticulture-and-plantation-crops-tamil-nadu-year-2011-12',\n",
       "    'type': 'dataset',\n",
       "    'nid': 6617471,\n",
       "    'title': 'Area, Production and Productivity of Horticulture and Plantation Crops in Tamil Nadu for the Year 2011-12',\n",
       "    'interface': 'ogd:catalog',\n",
       "    'uuid': '124f35fe-423c-48fd-81d8-276640e4bc01'},\n",
       "   {'website': 'https://data.gov.in/catalog/area-production-productivity-horticulture-and-plantation-crops-tamil-nadu-year-2013-14',\n",
       "    'nid': 6618583,\n",
       "    'title': 'Area, Production & Productivity of Horticulture and Plantation Crops in Tamil Nadu for the Year 2013-14',\n",
       "    'vid': 10703079,\n",
       "    'uuid': '826fc11d-34f9-4471-8133-091655a5ae99',\n",
       "    'interface': 'ogd:catalog',\n",
       "    'type': 'dataset'},\n",
       "   {'website': 'https://data.gov.in/catalog/area-production-and-productivity-horticulture-and-plantation-crops-tamil-nadu-year-2012-13',\n",
       "    'interface': 'ogd:catalog',\n",
       "    'title': 'Area, Production and Productivity of Horticulture and Plantation Crops in Tamil Nadu for the Year 2012-13',\n",
       "    'nid': 6618387,\n",
       "    'vid': 10703042,\n",
       "    'type': 'dataset',\n",
       "    'uuid': 'd3f07762-4762-4b11-bf20-0cf588b09a27'},\n",
       "   {'nid': 6620145,\n",
       "    'uuid': '0eb6a940-1ad0-41ab-aa84-6ed1e52fa37b',\n",
       "    'type': 'dataset',\n",
       "    'title': 'Area, Production and Productivity of Horticulture and Plantation Crops in Tamil Nadu for the Year 2016-17',\n",
       "    'website': 'https://data.gov.in/catalog/area-production-and-productivity-horticulture-and-plantation-crops-tamil-nadu-year-2016-17',\n",
       "    'interface': 'ogd:catalog',\n",
       "    'vid': 10703477},\n",
       "   {'interface': 'ogd:catalog',\n",
       "    'website': 'https://data.gov.in/catalog/area-production-productivity-horticulture-and-plantation-crops-tamil-nadu-year-2014-15',\n",
       "    'vid': 10703115,\n",
       "    'uuid': '75487736-27b6-4a3e-98d0-35a99ba06d45',\n",
       "    'title': 'Area, Production & Productivity of Horticulture and Plantation Crops in Tamil Nadu for the Year 2014-15',\n",
       "    'nid': 6618936,\n",
       "    'type': 'dataset'},\n",
       "   {'title': 'Area, Production & Productivity of Horticulture and Plantation Crops in Tamil Nadu for the Year 2015-16',\n",
       "    'uuid': '9fdf3dac-5500-497d-ba6d-12630b7ba350',\n",
       "    'vid': 10702605,\n",
       "    'website': 'https://data.gov.in/catalog/area-production-productivity-horticulture-and-plantation-crops-tamil-nadu-year-2015-16',\n",
       "    'type': 'dataset',\n",
       "    'nid': 6585081,\n",
       "    'interface': 'ogd:catalog'},\n",
       "   {'website': 'https://data.gov.in/catalog/area-production-productivity-plantation-crops-district-wise-tamil-nadu-year-2013-14',\n",
       "    'interface': 'ogd:catalog',\n",
       "    'vid': 10703064,\n",
       "    'uuid': 'a34cfda4-6794-463e-88ad-6b92e05591c0',\n",
       "    'nid': 6618489,\n",
       "    'type': 'dataset',\n",
       "    'title': 'Area, Production & Productivity of Plantation Crops by District-Wise in Tamil Nadu for the Year 2013-14'},\n",
       "   {'uuid': '797739c2-2758-4079-86f0-cbe9bb7d01e1',\n",
       "    'type': 'dataset',\n",
       "    'website': 'https://data.gov.in/catalog/area-production-and-productivity-plantation-crops-district-wise-tamil-nadu-year-2011-12',\n",
       "    'interface': 'ogd:catalog',\n",
       "    'nid': 6617432,\n",
       "    'vid': 10702856,\n",
       "    'title': 'Area, Production and Productivity of Plantation Crops by District-Wise in Tamil Nadu for the Year 2011-12'},\n",
       "   {'vid': 10703099,\n",
       "    'website': 'https://data.gov.in/catalog/area-production-and-productivity-plantation-crops-district-wise-tamil-nadu-year-2014-15',\n",
       "    'interface': 'ogd:catalog',\n",
       "    'type': 'dataset',\n",
       "    'title': 'Area, Production and Productivity of Plantation Crops by District-Wise in Tamil Nadu for the Year 2014-15',\n",
       "    'nid': 6618792,\n",
       "    'uuid': '2f51343f-cc5a-42eb-973b-ad9d256ec663'}]],\n",
       " 'distances': [[1.1834192276000977,\n",
       "   1.2021148204803467,\n",
       "   1.2023719549179077,\n",
       "   1.2084019184112549,\n",
       "   1.213313102722168,\n",
       "   1.2201967239379883,\n",
       "   1.2321994304656982,\n",
       "   1.24647057056427,\n",
       "   1.2503414154052734,\n",
       "   1.253535270690918]]}"
      ]
     },
     "execution_count": 13,
     "metadata": {},
     "output_type": "execute_result"
    }
   ],
   "source": [
    "datasets.query(\n",
    "    query_texts=[\"soil fertility\"]\n",
    ")"
   ]
  },
  {
   "cell_type": "code",
   "execution_count": 6,
   "id": "43bfa1b9",
   "metadata": {},
   "outputs": [
    {
     "data": {
      "text/plain": [
       "9249"
      ]
     },
     "execution_count": 6,
     "metadata": {},
     "output_type": "execute_result"
    }
   ],
   "source": [
    "datasets.count()"
   ]
  },
  {
   "cell_type": "code",
   "execution_count": 4,
   "id": "70d2392c",
   "metadata": {},
   "outputs": [
    {
     "name": "stderr",
     "output_type": "stream",
     "text": [
      "/home/xt13/.cache/chroma/onnx_models/all-MiniLM-L6-v2/onnx.tar.gz: 100%|██████████| 79.3M/79.3M [00:42<00:00, 1.95MiB/s]  \n"
     ]
    },
    {
     "ename": "CursorNotFound",
     "evalue": "cursor id 3535209773013529311 not found, full error: {'ok': 0.0, 'errmsg': 'cursor id 3535209773013529311 not found', 'code': 43, 'codeName': 'CursorNotFound'}",
     "output_type": "error",
     "traceback": [
      "\u001b[31m---------------------------------------------------------------------------\u001b[39m",
      "\u001b[31mCursorNotFound\u001b[39m                            Traceback (most recent call last)",
      "\u001b[36mCell\u001b[39m\u001b[36m \u001b[39m\u001b[32mIn[4]\u001b[39m\u001b[32m, line 3\u001b[39m\n\u001b[32m      1\u001b[39m ctlgs = db[\u001b[33m\"\u001b[39m\u001b[33mogd_catalogs\u001b[39m\u001b[33m\"\u001b[39m]\n\u001b[32m      2\u001b[39m gen = ctlgs.find()\n\u001b[32m----> \u001b[39m\u001b[32m3\u001b[39m \u001b[38;5;28;43;01mfor\u001b[39;49;00m\u001b[43m \u001b[49m\u001b[43mdoc\u001b[49m\u001b[43m \u001b[49m\u001b[38;5;129;43;01min\u001b[39;49;00m\u001b[43m \u001b[49m\u001b[43mgen\u001b[49m\u001b[43m:\u001b[49m\n\u001b[32m      4\u001b[39m \u001b[43m  \u001b[49m\u001b[43mcatalog\u001b[49m\u001b[43m \u001b[49m\u001b[43m=\u001b[49m\u001b[43m \u001b[49m\u001b[43mDocumentAdapter\u001b[49m\u001b[43m.\u001b[49m\u001b[43mfrom_catalog\u001b[49m\u001b[43m(\u001b[49m\u001b[43mdoc\u001b[49m\u001b[43m)\u001b[49m\n\u001b[32m      5\u001b[39m \u001b[43m  \u001b[49m\u001b[43mpage_content\u001b[49m\u001b[43m \u001b[49m\u001b[43m=\u001b[49m\u001b[43m \u001b[49m\u001b[43mcatalog\u001b[49m\u001b[43m.\u001b[49m\u001b[43mpop\u001b[49m\u001b[43m(\u001b[49m\u001b[33;43m\"\u001b[39;49m\u001b[33;43mcontent\u001b[39;49m\u001b[33;43m\"\u001b[39;49m\u001b[43m)\u001b[49m\n",
      "\u001b[36mFile \u001b[39m\u001b[32m/data102/vijay/datatalker/.venv/lib/python3.12/site-packages/pymongo/synchronous/cursor.py:1284\u001b[39m, in \u001b[36mCursor.__next__\u001b[39m\u001b[34m(self)\u001b[39m\n\u001b[32m   1283\u001b[39m \u001b[38;5;28;01mdef\u001b[39;00m\u001b[38;5;250m \u001b[39m\u001b[34m__next__\u001b[39m(\u001b[38;5;28mself\u001b[39m) -> _DocumentType:\n\u001b[32m-> \u001b[39m\u001b[32m1284\u001b[39m     \u001b[38;5;28;01mreturn\u001b[39;00m \u001b[38;5;28;43mself\u001b[39;49m\u001b[43m.\u001b[49m\u001b[43mnext\u001b[49m\u001b[43m(\u001b[49m\u001b[43m)\u001b[49m\n",
      "\u001b[36mFile \u001b[39m\u001b[32m/data102/vijay/datatalker/.venv/lib/python3.12/site-packages/pymongo/synchronous/cursor.py:1260\u001b[39m, in \u001b[36mCursor.next\u001b[39m\u001b[34m(self)\u001b[39m\n\u001b[32m   1258\u001b[39m \u001b[38;5;28;01mif\u001b[39;00m \u001b[38;5;28mself\u001b[39m._empty:\n\u001b[32m   1259\u001b[39m     \u001b[38;5;28;01mraise\u001b[39;00m \u001b[38;5;167;01mStopIteration\u001b[39;00m\n\u001b[32m-> \u001b[39m\u001b[32m1260\u001b[39m \u001b[38;5;28;01mif\u001b[39;00m \u001b[38;5;28mlen\u001b[39m(\u001b[38;5;28mself\u001b[39m._data) \u001b[38;5;129;01mor\u001b[39;00m \u001b[38;5;28;43mself\u001b[39;49m\u001b[43m.\u001b[49m\u001b[43m_refresh\u001b[49m\u001b[43m(\u001b[49m\u001b[43m)\u001b[49m:\n\u001b[32m   1261\u001b[39m     \u001b[38;5;28;01mreturn\u001b[39;00m \u001b[38;5;28mself\u001b[39m._data.popleft()\n\u001b[32m   1262\u001b[39m \u001b[38;5;28;01melse\u001b[39;00m:\n",
      "\u001b[36mFile \u001b[39m\u001b[32m/data102/vijay/datatalker/.venv/lib/python3.12/site-packages/pymongo/synchronous/cursor.py:1231\u001b[39m, in \u001b[36mCursor._refresh\u001b[39m\u001b[34m(self)\u001b[39m\n\u001b[32m   1216\u001b[39m     \u001b[38;5;66;03m# Exhaust cursors don't send getMore messages.\u001b[39;00m\n\u001b[32m   1217\u001b[39m     g = \u001b[38;5;28mself\u001b[39m._getmore_class(\n\u001b[32m   1218\u001b[39m         \u001b[38;5;28mself\u001b[39m._dbname,\n\u001b[32m   1219\u001b[39m         \u001b[38;5;28mself\u001b[39m._collname,\n\u001b[32m   (...)\u001b[39m\u001b[32m   1229\u001b[39m         \u001b[38;5;28mself\u001b[39m._comment,\n\u001b[32m   1230\u001b[39m     )\n\u001b[32m-> \u001b[39m\u001b[32m1231\u001b[39m     \u001b[38;5;28;43mself\u001b[39;49m\u001b[43m.\u001b[49m\u001b[43m_send_message\u001b[49m\u001b[43m(\u001b[49m\u001b[43mg\u001b[49m\u001b[43m)\u001b[49m\n\u001b[32m   1233\u001b[39m \u001b[38;5;28;01mreturn\u001b[39;00m \u001b[38;5;28mlen\u001b[39m(\u001b[38;5;28mself\u001b[39m._data)\n",
      "\u001b[36mFile \u001b[39m\u001b[32m/data102/vijay/datatalker/.venv/lib/python3.12/site-packages/pymongo/synchronous/cursor.py:1102\u001b[39m, in \u001b[36mCursor._send_message\u001b[39m\u001b[34m(self, operation)\u001b[39m\n\u001b[32m   1099\u001b[39m     \u001b[38;5;28;01mraise\u001b[39;00m InvalidOperation(\u001b[33m\"\u001b[39m\u001b[33mexhaust cursors do not support auto encryption\u001b[39m\u001b[33m\"\u001b[39m)\n\u001b[32m   1101\u001b[39m \u001b[38;5;28;01mtry\u001b[39;00m:\n\u001b[32m-> \u001b[39m\u001b[32m1102\u001b[39m     response = \u001b[43mclient\u001b[49m\u001b[43m.\u001b[49m\u001b[43m_run_operation\u001b[49m\u001b[43m(\u001b[49m\n\u001b[32m   1103\u001b[39m \u001b[43m        \u001b[49m\u001b[43moperation\u001b[49m\u001b[43m,\u001b[49m\u001b[43m \u001b[49m\u001b[38;5;28;43mself\u001b[39;49m\u001b[43m.\u001b[49m\u001b[43m_unpack_response\u001b[49m\u001b[43m,\u001b[49m\u001b[43m \u001b[49m\u001b[43maddress\u001b[49m\u001b[43m=\u001b[49m\u001b[38;5;28;43mself\u001b[39;49m\u001b[43m.\u001b[49m\u001b[43m_address\u001b[49m\n\u001b[32m   1104\u001b[39m \u001b[43m    \u001b[49m\u001b[43m)\u001b[49m\n\u001b[32m   1105\u001b[39m \u001b[38;5;28;01mexcept\u001b[39;00m OperationFailure \u001b[38;5;28;01mas\u001b[39;00m exc:\n\u001b[32m   1106\u001b[39m     \u001b[38;5;28;01mif\u001b[39;00m exc.code \u001b[38;5;129;01min\u001b[39;00m _CURSOR_CLOSED_ERRORS \u001b[38;5;129;01mor\u001b[39;00m \u001b[38;5;28mself\u001b[39m._exhaust:\n\u001b[32m   1107\u001b[39m         \u001b[38;5;66;03m# Don't send killCursors because the cursor is already closed.\u001b[39;00m\n",
      "\u001b[36mFile \u001b[39m\u001b[32m/data102/vijay/datatalker/.venv/lib/python3.12/site-packages/pymongo/_csot.py:119\u001b[39m, in \u001b[36mapply.<locals>.csot_wrapper\u001b[39m\u001b[34m(self, *args, **kwargs)\u001b[39m\n\u001b[32m    117\u001b[39m         \u001b[38;5;28;01mwith\u001b[39;00m _TimeoutContext(timeout):\n\u001b[32m    118\u001b[39m             \u001b[38;5;28;01mreturn\u001b[39;00m func(\u001b[38;5;28mself\u001b[39m, *args, **kwargs)\n\u001b[32m--> \u001b[39m\u001b[32m119\u001b[39m \u001b[38;5;28;01mreturn\u001b[39;00m \u001b[43mfunc\u001b[49m\u001b[43m(\u001b[49m\u001b[38;5;28;43mself\u001b[39;49m\u001b[43m,\u001b[49m\u001b[43m \u001b[49m\u001b[43m*\u001b[49m\u001b[43margs\u001b[49m\u001b[43m,\u001b[49m\u001b[43m \u001b[49m\u001b[43m*\u001b[49m\u001b[43m*\u001b[49m\u001b[43mkwargs\u001b[49m\u001b[43m)\u001b[49m\n",
      "\u001b[36mFile \u001b[39m\u001b[32m/data102/vijay/datatalker/.venv/lib/python3.12/site-packages/pymongo/synchronous/mongo_client.py:1917\u001b[39m, in \u001b[36mMongoClient._run_operation\u001b[39m\u001b[34m(self, operation, unpack_res, address)\u001b[39m\n\u001b[32m   1907\u001b[39m     operation.reset()  \u001b[38;5;66;03m# Reset op in case of retry.\u001b[39;00m\n\u001b[32m   1908\u001b[39m     \u001b[38;5;28;01mreturn\u001b[39;00m server.run_operation(\n\u001b[32m   1909\u001b[39m         conn,\n\u001b[32m   1910\u001b[39m         operation,\n\u001b[32m   (...)\u001b[39m\u001b[32m   1914\u001b[39m         \u001b[38;5;28mself\u001b[39m,\n\u001b[32m   1915\u001b[39m     )\n\u001b[32m-> \u001b[39m\u001b[32m1917\u001b[39m \u001b[38;5;28;01mreturn\u001b[39;00m \u001b[38;5;28;43mself\u001b[39;49m\u001b[43m.\u001b[49m\u001b[43m_retryable_read\u001b[49m\u001b[43m(\u001b[49m\n\u001b[32m   1918\u001b[39m \u001b[43m    \u001b[49m\u001b[43m_cmd\u001b[49m\u001b[43m,\u001b[49m\n\u001b[32m   1919\u001b[39m \u001b[43m    \u001b[49m\u001b[43moperation\u001b[49m\u001b[43m.\u001b[49m\u001b[43mread_preference\u001b[49m\u001b[43m,\u001b[49m\n\u001b[32m   1920\u001b[39m \u001b[43m    \u001b[49m\u001b[43moperation\u001b[49m\u001b[43m.\u001b[49m\u001b[43msession\u001b[49m\u001b[43m,\u001b[49m\u001b[43m  \u001b[49m\u001b[38;5;66;43;03m# type: ignore[arg-type]\u001b[39;49;00m\n\u001b[32m   1921\u001b[39m \u001b[43m    \u001b[49m\u001b[43maddress\u001b[49m\u001b[43m=\u001b[49m\u001b[43maddress\u001b[49m\u001b[43m,\u001b[49m\n\u001b[32m   1922\u001b[39m \u001b[43m    \u001b[49m\u001b[43mretryable\u001b[49m\u001b[43m=\u001b[49m\u001b[38;5;28;43misinstance\u001b[39;49m\u001b[43m(\u001b[49m\u001b[43moperation\u001b[49m\u001b[43m,\u001b[49m\u001b[43m \u001b[49m\u001b[43m_Query\u001b[49m\u001b[43m)\u001b[49m\u001b[43m,\u001b[49m\n\u001b[32m   1923\u001b[39m \u001b[43m    \u001b[49m\u001b[43moperation\u001b[49m\u001b[43m=\u001b[49m\u001b[43moperation\u001b[49m\u001b[43m.\u001b[49m\u001b[43mname\u001b[49m\u001b[43m,\u001b[49m\n\u001b[32m   1924\u001b[39m \u001b[43m\u001b[49m\u001b[43m)\u001b[49m\n",
      "\u001b[36mFile \u001b[39m\u001b[32m/data102/vijay/datatalker/.venv/lib/python3.12/site-packages/pymongo/synchronous/mongo_client.py:2026\u001b[39m, in \u001b[36mMongoClient._retryable_read\u001b[39m\u001b[34m(self, func, read_pref, session, operation, address, retryable, operation_id)\u001b[39m\n\u001b[32m   2021\u001b[39m \u001b[38;5;66;03m# Ensure that the client supports retrying on reads and there is no session in\u001b[39;00m\n\u001b[32m   2022\u001b[39m \u001b[38;5;66;03m# transaction, otherwise, we will not support retry behavior for this call.\u001b[39;00m\n\u001b[32m   2023\u001b[39m retryable = \u001b[38;5;28mbool\u001b[39m(\n\u001b[32m   2024\u001b[39m     retryable \u001b[38;5;129;01mand\u001b[39;00m \u001b[38;5;28mself\u001b[39m.options.retry_reads \u001b[38;5;129;01mand\u001b[39;00m \u001b[38;5;129;01mnot\u001b[39;00m (session \u001b[38;5;129;01mand\u001b[39;00m session.in_transaction)\n\u001b[32m   2025\u001b[39m )\n\u001b[32m-> \u001b[39m\u001b[32m2026\u001b[39m \u001b[38;5;28;01mreturn\u001b[39;00m \u001b[38;5;28;43mself\u001b[39;49m\u001b[43m.\u001b[49m\u001b[43m_retry_internal\u001b[49m\u001b[43m(\u001b[49m\n\u001b[32m   2027\u001b[39m \u001b[43m    \u001b[49m\u001b[43mfunc\u001b[49m\u001b[43m,\u001b[49m\n\u001b[32m   2028\u001b[39m \u001b[43m    \u001b[49m\u001b[43msession\u001b[49m\u001b[43m,\u001b[49m\n\u001b[32m   2029\u001b[39m \u001b[43m    \u001b[49m\u001b[38;5;28;43;01mNone\u001b[39;49;00m\u001b[43m,\u001b[49m\n\u001b[32m   2030\u001b[39m \u001b[43m    \u001b[49m\u001b[43moperation\u001b[49m\u001b[43m,\u001b[49m\n\u001b[32m   2031\u001b[39m \u001b[43m    \u001b[49m\u001b[43mis_read\u001b[49m\u001b[43m=\u001b[49m\u001b[38;5;28;43;01mTrue\u001b[39;49;00m\u001b[43m,\u001b[49m\n\u001b[32m   2032\u001b[39m \u001b[43m    \u001b[49m\u001b[43maddress\u001b[49m\u001b[43m=\u001b[49m\u001b[43maddress\u001b[49m\u001b[43m,\u001b[49m\n\u001b[32m   2033\u001b[39m \u001b[43m    \u001b[49m\u001b[43mread_pref\u001b[49m\u001b[43m=\u001b[49m\u001b[43mread_pref\u001b[49m\u001b[43m,\u001b[49m\n\u001b[32m   2034\u001b[39m \u001b[43m    \u001b[49m\u001b[43mretryable\u001b[49m\u001b[43m=\u001b[49m\u001b[43mretryable\u001b[49m\u001b[43m,\u001b[49m\n\u001b[32m   2035\u001b[39m \u001b[43m    \u001b[49m\u001b[43moperation_id\u001b[49m\u001b[43m=\u001b[49m\u001b[43moperation_id\u001b[49m\u001b[43m,\u001b[49m\n\u001b[32m   2036\u001b[39m \u001b[43m\u001b[49m\u001b[43m)\u001b[49m\n",
      "\u001b[36mFile \u001b[39m\u001b[32m/data102/vijay/datatalker/.venv/lib/python3.12/site-packages/pymongo/_csot.py:119\u001b[39m, in \u001b[36mapply.<locals>.csot_wrapper\u001b[39m\u001b[34m(self, *args, **kwargs)\u001b[39m\n\u001b[32m    117\u001b[39m         \u001b[38;5;28;01mwith\u001b[39;00m _TimeoutContext(timeout):\n\u001b[32m    118\u001b[39m             \u001b[38;5;28;01mreturn\u001b[39;00m func(\u001b[38;5;28mself\u001b[39m, *args, **kwargs)\n\u001b[32m--> \u001b[39m\u001b[32m119\u001b[39m \u001b[38;5;28;01mreturn\u001b[39;00m \u001b[43mfunc\u001b[49m\u001b[43m(\u001b[49m\u001b[38;5;28;43mself\u001b[39;49m\u001b[43m,\u001b[49m\u001b[43m \u001b[49m\u001b[43m*\u001b[49m\u001b[43margs\u001b[49m\u001b[43m,\u001b[49m\u001b[43m \u001b[49m\u001b[43m*\u001b[49m\u001b[43m*\u001b[49m\u001b[43mkwargs\u001b[49m\u001b[43m)\u001b[49m\n",
      "\u001b[36mFile \u001b[39m\u001b[32m/data102/vijay/datatalker/.venv/lib/python3.12/site-packages/pymongo/synchronous/mongo_client.py:1993\u001b[39m, in \u001b[36mMongoClient._retry_internal\u001b[39m\u001b[34m(self, func, session, bulk, operation, is_read, address, read_pref, retryable, operation_id)\u001b[39m\n\u001b[32m   1956\u001b[39m \u001b[38;5;129m@_csot\u001b[39m.apply\n\u001b[32m   1957\u001b[39m \u001b[38;5;28;01mdef\u001b[39;00m\u001b[38;5;250m \u001b[39m\u001b[34m_retry_internal\u001b[39m(\n\u001b[32m   1958\u001b[39m     \u001b[38;5;28mself\u001b[39m,\n\u001b[32m   (...)\u001b[39m\u001b[32m   1967\u001b[39m     operation_id: Optional[\u001b[38;5;28mint\u001b[39m] = \u001b[38;5;28;01mNone\u001b[39;00m,\n\u001b[32m   1968\u001b[39m ) -> T:\n\u001b[32m   1969\u001b[39m \u001b[38;5;250m    \u001b[39m\u001b[33;03m\"\"\"Internal retryable helper for all client transactions.\u001b[39;00m\n\u001b[32m   1970\u001b[39m \n\u001b[32m   1971\u001b[39m \u001b[33;03m    :param func: Callback function we want to retry\u001b[39;00m\n\u001b[32m   (...)\u001b[39m\u001b[32m   1980\u001b[39m \u001b[33;03m    :return: Output of the calling func()\u001b[39;00m\n\u001b[32m   1981\u001b[39m \u001b[33;03m    \"\"\"\u001b[39;00m\n\u001b[32m   1982\u001b[39m     \u001b[38;5;28;01mreturn\u001b[39;00m \u001b[43m_ClientConnectionRetryable\u001b[49m\u001b[43m(\u001b[49m\n\u001b[32m   1983\u001b[39m \u001b[43m        \u001b[49m\u001b[43mmongo_client\u001b[49m\u001b[43m=\u001b[49m\u001b[38;5;28;43mself\u001b[39;49m\u001b[43m,\u001b[49m\n\u001b[32m   1984\u001b[39m \u001b[43m        \u001b[49m\u001b[43mfunc\u001b[49m\u001b[43m=\u001b[49m\u001b[43mfunc\u001b[49m\u001b[43m,\u001b[49m\n\u001b[32m   1985\u001b[39m \u001b[43m        \u001b[49m\u001b[43mbulk\u001b[49m\u001b[43m=\u001b[49m\u001b[43mbulk\u001b[49m\u001b[43m,\u001b[49m\n\u001b[32m   1986\u001b[39m \u001b[43m        \u001b[49m\u001b[43moperation\u001b[49m\u001b[43m=\u001b[49m\u001b[43moperation\u001b[49m\u001b[43m,\u001b[49m\n\u001b[32m   1987\u001b[39m \u001b[43m        \u001b[49m\u001b[43mis_read\u001b[49m\u001b[43m=\u001b[49m\u001b[43mis_read\u001b[49m\u001b[43m,\u001b[49m\n\u001b[32m   1988\u001b[39m \u001b[43m        \u001b[49m\u001b[43msession\u001b[49m\u001b[43m=\u001b[49m\u001b[43msession\u001b[49m\u001b[43m,\u001b[49m\n\u001b[32m   1989\u001b[39m \u001b[43m        \u001b[49m\u001b[43mread_pref\u001b[49m\u001b[43m=\u001b[49m\u001b[43mread_pref\u001b[49m\u001b[43m,\u001b[49m\n\u001b[32m   1990\u001b[39m \u001b[43m        \u001b[49m\u001b[43maddress\u001b[49m\u001b[43m=\u001b[49m\u001b[43maddress\u001b[49m\u001b[43m,\u001b[49m\n\u001b[32m   1991\u001b[39m \u001b[43m        \u001b[49m\u001b[43mretryable\u001b[49m\u001b[43m=\u001b[49m\u001b[43mretryable\u001b[49m\u001b[43m,\u001b[49m\n\u001b[32m   1992\u001b[39m \u001b[43m        \u001b[49m\u001b[43moperation_id\u001b[49m\u001b[43m=\u001b[49m\u001b[43moperation_id\u001b[49m\u001b[43m,\u001b[49m\n\u001b[32m-> \u001b[39m\u001b[32m1993\u001b[39m \u001b[43m    \u001b[49m\u001b[43m)\u001b[49m\u001b[43m.\u001b[49m\u001b[43mrun\u001b[49m\u001b[43m(\u001b[49m\u001b[43m)\u001b[49m\n",
      "\u001b[36mFile \u001b[39m\u001b[32m/data102/vijay/datatalker/.venv/lib/python3.12/site-packages/pymongo/synchronous/mongo_client.py:2730\u001b[39m, in \u001b[36m_ClientConnectionRetryable.run\u001b[39m\u001b[34m(self)\u001b[39m\n\u001b[32m   2728\u001b[39m \u001b[38;5;28mself\u001b[39m._check_last_error(check_csot=\u001b[38;5;28;01mTrue\u001b[39;00m)\n\u001b[32m   2729\u001b[39m \u001b[38;5;28;01mtry\u001b[39;00m:\n\u001b[32m-> \u001b[39m\u001b[32m2730\u001b[39m     \u001b[38;5;28;01mreturn\u001b[39;00m \u001b[38;5;28;43mself\u001b[39;49m\u001b[43m.\u001b[49m\u001b[43m_read\u001b[49m\u001b[43m(\u001b[49m\u001b[43m)\u001b[49m \u001b[38;5;28;01mif\u001b[39;00m \u001b[38;5;28mself\u001b[39m._is_read \u001b[38;5;28;01melse\u001b[39;00m \u001b[38;5;28mself\u001b[39m._write()\n\u001b[32m   2731\u001b[39m \u001b[38;5;28;01mexcept\u001b[39;00m ServerSelectionTimeoutError:\n\u001b[32m   2732\u001b[39m     \u001b[38;5;66;03m# The application may think the write was never attempted\u001b[39;00m\n\u001b[32m   2733\u001b[39m     \u001b[38;5;66;03m# if we raise ServerSelectionTimeoutError on the retry\u001b[39;00m\n\u001b[32m   2734\u001b[39m     \u001b[38;5;66;03m# attempt. Raise the original exception instead.\u001b[39;00m\n\u001b[32m   2735\u001b[39m     \u001b[38;5;28mself\u001b[39m._check_last_error()\n",
      "\u001b[36mFile \u001b[39m\u001b[32m/data102/vijay/datatalker/.venv/lib/python3.12/site-packages/pymongo/synchronous/mongo_client.py:2891\u001b[39m, in \u001b[36m_ClientConnectionRetryable._read\u001b[39m\u001b[34m(self)\u001b[39m\n\u001b[32m   2883\u001b[39m \u001b[38;5;28;01mif\u001b[39;00m \u001b[38;5;28mself\u001b[39m._retrying:\n\u001b[32m   2884\u001b[39m     _debug_log(\n\u001b[32m   2885\u001b[39m         _COMMAND_LOGGER,\n\u001b[32m   2886\u001b[39m         message=\u001b[33mf\u001b[39m\u001b[33m\"\u001b[39m\u001b[33mRetrying read attempt number \u001b[39m\u001b[38;5;132;01m{\u001b[39;00m\u001b[38;5;28mself\u001b[39m._attempt_number\u001b[38;5;132;01m}\u001b[39;00m\u001b[33m\"\u001b[39m,\n\u001b[32m   (...)\u001b[39m\u001b[32m   2889\u001b[39m         operationId=\u001b[38;5;28mself\u001b[39m._operation_id,\n\u001b[32m   2890\u001b[39m     )\n\u001b[32m-> \u001b[39m\u001b[32m2891\u001b[39m \u001b[38;5;28;01mreturn\u001b[39;00m \u001b[38;5;28;43mself\u001b[39;49m\u001b[43m.\u001b[49m\u001b[43m_func\u001b[49m\u001b[43m(\u001b[49m\u001b[38;5;28;43mself\u001b[39;49m\u001b[43m.\u001b[49m\u001b[43m_session\u001b[49m\u001b[43m,\u001b[49m\u001b[43m \u001b[49m\u001b[38;5;28;43mself\u001b[39;49m\u001b[43m.\u001b[49m\u001b[43m_server\u001b[49m\u001b[43m,\u001b[49m\u001b[43m \u001b[49m\u001b[43mconn\u001b[49m\u001b[43m,\u001b[49m\u001b[43m \u001b[49m\u001b[43mread_pref\u001b[49m\u001b[43m)\u001b[49m\n",
      "\u001b[36mFile \u001b[39m\u001b[32m/data102/vijay/datatalker/.venv/lib/python3.12/site-packages/pymongo/synchronous/mongo_client.py:1908\u001b[39m, in \u001b[36mMongoClient._run_operation.<locals>._cmd\u001b[39m\u001b[34m(_session, server, conn, read_preference)\u001b[39m\n\u001b[32m   1901\u001b[39m \u001b[38;5;28;01mdef\u001b[39;00m\u001b[38;5;250m \u001b[39m\u001b[34m_cmd\u001b[39m(\n\u001b[32m   1902\u001b[39m     _session: Optional[ClientSession],\n\u001b[32m   1903\u001b[39m     server: Server,\n\u001b[32m   1904\u001b[39m     conn: Connection,\n\u001b[32m   1905\u001b[39m     read_preference: _ServerMode,\n\u001b[32m   1906\u001b[39m ) -> Response:\n\u001b[32m   1907\u001b[39m     operation.reset()  \u001b[38;5;66;03m# Reset op in case of retry.\u001b[39;00m\n\u001b[32m-> \u001b[39m\u001b[32m1908\u001b[39m     \u001b[38;5;28;01mreturn\u001b[39;00m \u001b[43mserver\u001b[49m\u001b[43m.\u001b[49m\u001b[43mrun_operation\u001b[49m\u001b[43m(\u001b[49m\n\u001b[32m   1909\u001b[39m \u001b[43m        \u001b[49m\u001b[43mconn\u001b[49m\u001b[43m,\u001b[49m\n\u001b[32m   1910\u001b[39m \u001b[43m        \u001b[49m\u001b[43moperation\u001b[49m\u001b[43m,\u001b[49m\n\u001b[32m   1911\u001b[39m \u001b[43m        \u001b[49m\u001b[43mread_preference\u001b[49m\u001b[43m,\u001b[49m\n\u001b[32m   1912\u001b[39m \u001b[43m        \u001b[49m\u001b[38;5;28;43mself\u001b[39;49m\u001b[43m.\u001b[49m\u001b[43m_event_listeners\u001b[49m\u001b[43m,\u001b[49m\n\u001b[32m   1913\u001b[39m \u001b[43m        \u001b[49m\u001b[43munpack_res\u001b[49m\u001b[43m,\u001b[49m\n\u001b[32m   1914\u001b[39m \u001b[43m        \u001b[49m\u001b[38;5;28;43mself\u001b[39;49m\u001b[43m,\u001b[49m\n\u001b[32m   1915\u001b[39m \u001b[43m    \u001b[49m\u001b[43m)\u001b[49m\n",
      "\u001b[36mFile \u001b[39m\u001b[32m/data102/vijay/datatalker/.venv/lib/python3.12/site-packages/pymongo/synchronous/helpers.py:47\u001b[39m, in \u001b[36m_handle_reauth.<locals>.inner\u001b[39m\u001b[34m(*args, **kwargs)\u001b[39m\n\u001b[32m     44\u001b[39m \u001b[38;5;28;01mfrom\u001b[39;00m\u001b[38;5;250m \u001b[39m\u001b[34;01mpymongo\u001b[39;00m\u001b[34;01m.\u001b[39;00m\u001b[34;01msynchronous\u001b[39;00m\u001b[34;01m.\u001b[39;00m\u001b[34;01mpool\u001b[39;00m\u001b[38;5;250m \u001b[39m\u001b[38;5;28;01mimport\u001b[39;00m Connection\n\u001b[32m     46\u001b[39m \u001b[38;5;28;01mtry\u001b[39;00m:\n\u001b[32m---> \u001b[39m\u001b[32m47\u001b[39m     \u001b[38;5;28;01mreturn\u001b[39;00m \u001b[43mfunc\u001b[49m\u001b[43m(\u001b[49m\u001b[43m*\u001b[49m\u001b[43margs\u001b[49m\u001b[43m,\u001b[49m\u001b[43m \u001b[49m\u001b[43m*\u001b[49m\u001b[43m*\u001b[49m\u001b[43mkwargs\u001b[49m\u001b[43m)\u001b[49m\n\u001b[32m     48\u001b[39m \u001b[38;5;28;01mexcept\u001b[39;00m OperationFailure \u001b[38;5;28;01mas\u001b[39;00m exc:\n\u001b[32m     49\u001b[39m     \u001b[38;5;28;01mif\u001b[39;00m no_reauth:\n",
      "\u001b[36mFile \u001b[39m\u001b[32m/data102/vijay/datatalker/.venv/lib/python3.12/site-packages/pymongo/synchronous/server.py:227\u001b[39m, in \u001b[36mServer.run_operation\u001b[39m\u001b[34m(self, conn, operation, read_preference, listeners, unpack_res, client)\u001b[39m\n\u001b[32m    225\u001b[39m         first = docs[\u001b[32m0\u001b[39m]\n\u001b[32m    226\u001b[39m         operation.client._process_response(first, operation.session)  \u001b[38;5;66;03m# type: ignore[misc, arg-type]\u001b[39;00m\n\u001b[32m--> \u001b[39m\u001b[32m227\u001b[39m         \u001b[43m_check_command_response\u001b[49m\u001b[43m(\u001b[49m\u001b[43mfirst\u001b[49m\u001b[43m,\u001b[49m\u001b[43m \u001b[49m\u001b[43mconn\u001b[49m\u001b[43m.\u001b[49m\u001b[43mmax_wire_version\u001b[49m\u001b[43m)\u001b[49m\n\u001b[32m    228\u001b[39m \u001b[38;5;28;01mexcept\u001b[39;00m \u001b[38;5;167;01mException\u001b[39;00m \u001b[38;5;28;01mas\u001b[39;00m exc:\n\u001b[32m    229\u001b[39m     duration = datetime.now() - start\n",
      "\u001b[36mFile \u001b[39m\u001b[32m/data102/vijay/datatalker/.venv/lib/python3.12/site-packages/pymongo/helpers_shared.py:248\u001b[39m, in \u001b[36m_check_command_response\u001b[39m\u001b[34m(response, max_wire_version, allowable_errors, parse_write_concern_error)\u001b[39m\n\u001b[32m    246\u001b[39m     \u001b[38;5;28;01mraise\u001b[39;00m ExecutionTimeout(errmsg, code, response, max_wire_version)\n\u001b[32m    247\u001b[39m \u001b[38;5;28;01melif\u001b[39;00m code == \u001b[32m43\u001b[39m:\n\u001b[32m--> \u001b[39m\u001b[32m248\u001b[39m     \u001b[38;5;28;01mraise\u001b[39;00m CursorNotFound(errmsg, code, response, max_wire_version)\n\u001b[32m    250\u001b[39m \u001b[38;5;28;01mraise\u001b[39;00m OperationFailure(errmsg, code, response, max_wire_version)\n",
      "\u001b[31mCursorNotFound\u001b[39m: cursor id 3535209773013529311 not found, full error: {'ok': 0.0, 'errmsg': 'cursor id 3535209773013529311 not found', 'code': 43, 'codeName': 'CursorNotFound'}"
     ]
    }
   ],
   "source": [
    "ctlgs = db[\"ogd_catalogs\"]\n",
    "gen = ctlgs.find()\n",
    "for doc in gen:\n",
    "  catalog = DocumentAdapter.from_catalog(doc)\n",
    "  page_content = catalog.pop(\"content\")\n",
    "  doc_id = f\"ogd:catalog:{doc['uuid'][0]}\"\n",
    "  datasets.add(\n",
    "    documents=[page_content],\n",
    "    metadatas=[catalog],\n",
    "    ids=[doc_id]\n",
    "  )"
   ]
  },
  {
   "cell_type": "code",
   "execution_count": 1,
   "id": "8dc30078",
   "metadata": {},
   "outputs": [
    {
     "name": "stderr",
     "output_type": "stream",
     "text": [
      "/data102/vijay/datatalker/.venv/lib/python3.12/site-packages/tqdm/auto.py:21: TqdmWarning: IProgress not found. Please update jupyter and ipywidgets. See https://ipywidgets.readthedocs.io/en/stable/user_install.html\n",
      "  from .autonotebook import tqdm as notebook_tqdm\n"
     ]
    }
   ],
   "source": [
    "from datatalker.resources import get_relevant_resources"
   ]
  },
  {
   "cell_type": "code",
   "execution_count": 2,
   "id": "cda1348f",
   "metadata": {},
   "outputs": [],
   "source": [
    "gen = get_relevant_resources(\"soil fertility\")"
   ]
  },
  {
   "cell_type": "code",
   "execution_count": 4,
   "id": "cd03a3b1",
   "metadata": {},
   "outputs": [],
   "source": [
    "from datatalker.vectorstore import get_retriever"
   ]
  },
  {
   "cell_type": "code",
   "execution_count": 16,
   "id": "0d1f6971",
   "metadata": {},
   "outputs": [],
   "source": [
    "r = get_retriever(collection_name=\"datasets\")"
   ]
  },
  {
   "cell_type": "code",
   "execution_count": 21,
   "id": "8b92ed1f",
   "metadata": {},
   "outputs": [
    {
     "data": {
      "text/plain": [
       "[{'id': 'ogd:catalog:cc18f67e-5e7f-4548-a275-6868ce778105',\n",
       "  'score': 0.9730513095855713,\n",
       "  'long_text': \"Title: District-wise market arrivals of important crops\\nDescription: The catalog contains the data about the market arrivals of paddy, maize and Wheat\\nKeywords: ['paddy', 'Power and Energy', 'mineral']\\nFrequency: Annual\\nData Source: None\\nOpen Government Data Site: ['punjab.data.gov.in']Government Type: ['State']\\nAsset Jurisdiction Name: ['Punjab']\\nDs Govt Type: ['State']\\nSector Name: ['Agriculture', 'Agricultural Marketing']\\nState Department Name: ['Punjab', 'Planning Department, Punjab', 'Department of Economic and Statistical Organization, Punjab']\",\n",
       "  'metadatas': {'interface': 'ogd:catalog',\n",
       "   'nid': 6765448,\n",
       "   'uuid': 'cc18f67e-5e7f-4548-a275-6868ce778105',\n",
       "   'website': 'https://data.gov.in/catalog/district-wise-market-arrivals-important-crops',\n",
       "   'title': 'District-wise market arrivals of important crops',\n",
       "   'type': 'dataset',\n",
       "   'vid': 13000240}},\n",
       " {'id': 'ogd:catalog:2c947a40-79de-43f6-80d6-b21c72004bc2',\n",
       "  'score': 1.067992091178894,\n",
       "  'long_text': \"Title: Procurement of Important crops by different agencies\\nDescription: The catalog contains the data about procurement of paddy and wheat by Pungrain, F.C.I, Markfed, Punsup, P.S.W.C., Traders, P.A.I.C.\\nKeywords: ['paddy', 'procurement', 'wheat', 'FCI', 'Science', 'Technology', 'Science', 'Science', 'Science']\\nFrequency: Annual\\nData Source: None\\nOpen Government Data Site: ['punjab.data.gov.in']Government Type: ['State']\\nAsset Jurisdiction Name: ['Punjab']\\nDs Govt Type: ['State']\\nSector Name: ['Agriculture', 'Agricultural Marketing']\\nState Department Name: ['Punjab', 'Planning Department, Punjab', 'Department of Economic and Statistical Organization, Punjab']\",\n",
       "  'metadatas': {'uuid': '2c947a40-79de-43f6-80d6-b21c72004bc2',\n",
       "   'vid': 13041737,\n",
       "   'nid': 6765454,\n",
       "   'title': 'Procurement of Important crops by different agencies',\n",
       "   'type': 'dataset',\n",
       "   'website': 'https://data.gov.in/catalog/procurement-important-crops-different-agencies',\n",
       "   'interface': 'ogd:catalog'}},\n",
       " {'id': 'ogd:catalog:e35a142d-a137-4a49-9ef0-cf8b49f7b8fa',\n",
       "  'score': 1.0681726932525635,\n",
       "  'long_text': \"Title: Wholesale Prices for Certain Agricultural Commodities by Districts in Tamil Nadu: SCR 2016-17\\nDescription:  Prices for Certain Agricultural Commodities by Districts in Tamil Nadu\\nKeywords: ['Prices for Certain Agricultural Commodities']\\nFrequency: Annual\\nData Source: None\\nOpen Government Data Site: ['tn.data.gov.in']Government Type: ['State']\\nAsset Jurisdiction Name: ['Tamil Nadu']\\nDs Govt Type: ['State']\\nSector Name: ['Statistics']\\nState Department Name: ['Tamil Nadu', 'Planning, Development and Special Initiatives Department', 'Department of Economics and Statistics']\",\n",
       "  'metadatas': {'nid': 6680926,\n",
       "   'title': 'Wholesale Prices for Certain Agricultural Commodities by Districts in Tamil Nadu: SCR 2016-17',\n",
       "   'vid': 10704671,\n",
       "   'website': 'https://data.gov.in/catalog/wholesale-prices-certain-agricultural-commodities-districts-tamil-nadu-scr-2016-17-0',\n",
       "   'interface': 'ogd:catalog',\n",
       "   'uuid': 'e35a142d-a137-4a49-9ef0-cf8b49f7b8fa',\n",
       "   'type': 'dataset'}},\n",
       " {'id': 'ogd:catalog:b7a13873-8f9e-49bc-b320-12e61cb11a7b',\n",
       "  'score': 1.0758025646209717,\n",
       "  'long_text': \"Title: Area Under High yielding / Local Varieties of Principal Cereals in Tamil Nadu 2016-17\\nDescription: High yielding / Local Varieties of Principal Cereals in Tamil Nadu\\nKeywords: ['High yielding / Local Varieties of Principal Cereals']\\nFrequency: Annual\\nData Source: None\\nOpen Government Data Site: ['tn.data.gov.in']Government Type: ['State']\\nAsset Jurisdiction Name: ['Tamil Nadu']\\nDs Govt Type: ['State']\\nSector Name: ['Statistics']\\nState Department Name: ['Tamil Nadu', 'Planning, Development and Special Initiatives Department', 'Department of Economics and Statistics']\",\n",
       "  'metadatas': {'website': 'https://data.gov.in/catalog/area-under-high-yielding-local-varieties-principal-cereals-tamil-nadu-2016-17',\n",
       "   'uuid': 'b7a13873-8f9e-49bc-b320-12e61cb11a7b',\n",
       "   'type': 'dataset',\n",
       "   'title': 'Area Under High yielding / Local Varieties of Principal Cereals in Tamil Nadu 2016-17',\n",
       "   'interface': 'ogd:catalog',\n",
       "   'vid': 10704433,\n",
       "   'nid': 6675651}},\n",
       " {'id': 'ogd:catalog:2d11eea2-be5d-4501-8da5-a96e36e07b4a',\n",
       "  'score': 1.0815277099609375,\n",
       "  'long_text': \"Title: Major livestock products\\nDescription: Get data on Major livestock products. Major livestock products consist of production of milk, egg, meat and wool. The estimated production for these livestock products are derived based on the results of Integrated sample survey conducted across the country.\\nKeywords: ['Meat', 'Milk', 'Production', 'Wool', 'egg']\\nFrequency: Annual\\nData Source: None\\nOpen Government Data Site: ['data.gov.in']Government Type: ['Central']\\nAsset Jurisdiction Name: ['All India', 'State']\\nDs Govt Type: ['Central']\\nGroup Name Name: ['Wool and Meat Production']\\nMinistry Department Name: ['Department of Animal Husbandry and Dairying', 'Ministry of Fisheries, Animal Husbandry and Dairying']\\nSector Name: ['Agriculture', 'Animal Husbandry']\",\n",
       "  'metadatas': {'website': 'https://data.gov.in/catalog/major-livestock-products-0',\n",
       "   'uuid': '2d11eea2-be5d-4501-8da5-a96e36e07b4a',\n",
       "   'title': 'Major livestock products',\n",
       "   'interface': 'ogd:catalog',\n",
       "   'vid': 7894535,\n",
       "   'nid': 291301,\n",
       "   'type': 'dataset'}},\n",
       " {'id': 'ogd:catalog:2702258f-c183-45b2-b380-c026c8dd571e',\n",
       "  'score': 1.0954475402832031,\n",
       "  'long_text': \"Title: Area Under High yielding / Local Varieties of Principal Cereals in Tamil Nadu : SCR 2018-19\\nDescription: High yielding / Local Varieties of Principal Cereals in Tamil Nadu\\nKeywords: ['Local Varieties of Principal Cereals', 'High yielding']\\nFrequency: Annual\\nData Source: None\\nOpen Government Data Site: ['tn.data.gov.in']Government Type: ['State']\\nAsset Jurisdiction Name: ['Tamil Nadu']\\nDs Govt Type: ['State']\\nGroup Name Name: ['SCR 2018-19']\\nSector Name: ['Statistics']\\nState Department Name: ['Tamil Nadu', 'Planning, Development and Special Initiatives Department', 'Department of Economics and Statistics']\",\n",
       "  'metadatas': {'website': 'https://data.gov.in/catalog/area-under-high-yielding-local-varieties-principal-cereals-tamil-nadu-scr-2018-19',\n",
       "   'title': 'Area Under High yielding / Local Varieties of Principal Cereals in Tamil Nadu : SCR 2018-19',\n",
       "   'type': 'dataset',\n",
       "   'interface': 'ogd:catalog',\n",
       "   'nid': 6885167,\n",
       "   'vid': 10713234,\n",
       "   'uuid': '2702258f-c183-45b2-b380-c026c8dd571e'}},\n",
       " {'id': 'ogd:catalog:e4ef2e16-99db-429e-9ee2-95f77c57eac8',\n",
       "  'score': 1.0965523719787598,\n",
       "  'long_text': \"Title: Wholesale Prices for Certain Agricultural Commodities by Districts in Tamil Nadu : SCR 2018-19\\nDescription: Wholesale Prices for Certain Agricultural Commodities by Districts in Tamil Nadu\\nKeywords: ['Prices for Certain Agricultural Commodities']\\nFrequency: Annual\\nData Source: None\\nOpen Government Data Site: ['tn.data.gov.in']Government Type: ['State']\\nAsset Jurisdiction Name: ['Tamil Nadu']\\nDs Govt Type: ['State']\\nGroup Name Name: ['SCR 2018-19']\\nSector Name: ['Statistics']\\nState Department Name: ['Tamil Nadu', 'Planning, Development and Special Initiatives Department', 'Department of Economics and Statistics']\",\n",
       "  'metadatas': {'vid': 10713123,\n",
       "   'website': 'https://data.gov.in/catalog/wholesale-prices-certain-agricultural-commodities-districts-tamil-nadu-scr-2018-19',\n",
       "   'interface': 'ogd:catalog',\n",
       "   'title': 'Wholesale Prices for Certain Agricultural Commodities by Districts in Tamil Nadu : SCR 2018-19',\n",
       "   'nid': 6884891,\n",
       "   'type': 'dataset',\n",
       "   'uuid': 'e4ef2e16-99db-429e-9ee2-95f77c57eac8'}}]"
      ]
     },
     "execution_count": 21,
     "metadata": {},
     "output_type": "execute_result"
    }
   ],
   "source": [
    "r(\"agricultural marketing varieties\")"
   ]
  }
 ],
 "metadata": {
  "kernelspec": {
   "display_name": ".venv",
   "language": "python",
   "name": "python3"
  },
  "language_info": {
   "codemirror_mode": {
    "name": "ipython",
    "version": 3
   },
   "file_extension": ".py",
   "mimetype": "text/x-python",
   "name": "python",
   "nbconvert_exporter": "python",
   "pygments_lexer": "ipython3",
   "version": "3.12.8"
  }
 },
 "nbformat": 4,
 "nbformat_minor": 5
}
