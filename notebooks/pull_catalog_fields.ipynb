{
 "cells": [
  {
   "cell_type": "code",
   "execution_count": 1,
   "id": "3448f013",
   "metadata": {},
   "outputs": [],
   "source": [
    "from pymongo import MongoClient\n",
    "\n",
    "client = MongoClient(\"mongodb://localhost:27017/\")\n",
    "\n",
    "db = client[\"datatalker\"]\n",
    "ctlgs = db[\"ogd_catalogs\"]"
   ]
  },
  {
   "cell_type": "code",
   "execution_count": 2,
   "id": "40da2b84",
   "metadata": {},
   "outputs": [
    {
     "name": "stderr",
     "output_type": "stream",
     "text": [
      "/data102/vijay/datatalker/.venv/lib/python3.12/site-packages/tqdm/auto.py:21: TqdmWarning: IProgress not found. Please update jupyter and ipywidgets. See https://ipywidgets.readthedocs.io/en/stable/user_install.html\n",
      "  from .autonotebook import tqdm as notebook_tqdm\n"
     ]
    }
   ],
   "source": [
    "from datatalker.ogdp import OGDProxy\n",
    "\n",
    "ogd = OGDProxy(api_key=\"579b464db66ec23bdd000001edd87d62b40343d54d7f4653d5d391a7\")"
   ]
  },
  {
   "cell_type": "code",
   "execution_count": 11,
   "id": "e0a4b737",
   "metadata": {},
   "outputs": [
    {
     "data": {
      "text/plain": [
       "79"
      ]
     },
     "execution_count": 11,
     "metadata": {},
     "output_type": "execute_result"
    }
   ],
   "source": [
    "ctlg_uuids = ctlgs.find({\"is_api_available\": {\n",
    "    \"$in\": [[1], [\"1\"]]\n",
    "}}).distinct(\"uuid\")\n",
    "len(ctlg_uuids)"
   ]
  },
  {
   "cell_type": "code",
   "execution_count": 13,
   "id": "0c684643",
   "metadata": {},
   "outputs": [],
   "source": [
    "responses = list()\n",
    "for uuid in ctlg_uuids:\n",
    "  resp = ogd.catalog(uuid, limit=1).json()\n",
    "  responses.append(resp)"
   ]
  },
  {
   "cell_type": "code",
   "execution_count": 14,
   "id": "faf23ad9",
   "metadata": {},
   "outputs": [],
   "source": [
    "from pymongo import MongoClient\n",
    "\n",
    "client = MongoClient(\"mongodb://localhost:27017/\")\n",
    "\n",
    "db = client[\"datatalker\"]\n",
    "ctlg_fields = db[\"ogd_catalog_fields\"]"
   ]
  },
  {
   "cell_type": "code",
   "execution_count": 15,
   "id": "eeef0789",
   "metadata": {},
   "outputs": [
    {
     "data": {
      "text/plain": [
       "InsertManyResult([ObjectId('6815c425db82bdb07e57a268'), ObjectId('6815c425db82bdb07e57a269'), ObjectId('6815c425db82bdb07e57a26a'), ObjectId('6815c425db82bdb07e57a26b'), ObjectId('6815c425db82bdb07e57a26c'), ObjectId('6815c425db82bdb07e57a26d'), ObjectId('6815c425db82bdb07e57a26e'), ObjectId('6815c425db82bdb07e57a26f'), ObjectId('6815c425db82bdb07e57a270'), ObjectId('6815c425db82bdb07e57a271'), ObjectId('6815c425db82bdb07e57a272'), ObjectId('6815c425db82bdb07e57a273'), ObjectId('6815c425db82bdb07e57a274'), ObjectId('6815c425db82bdb07e57a275'), ObjectId('6815c425db82bdb07e57a276'), ObjectId('6815c425db82bdb07e57a277'), ObjectId('6815c425db82bdb07e57a278'), ObjectId('6815c425db82bdb07e57a279'), ObjectId('6815c425db82bdb07e57a27a'), ObjectId('6815c425db82bdb07e57a27b'), ObjectId('6815c425db82bdb07e57a27c'), ObjectId('6815c425db82bdb07e57a27d'), ObjectId('6815c425db82bdb07e57a27e'), ObjectId('6815c425db82bdb07e57a27f'), ObjectId('6815c425db82bdb07e57a280'), ObjectId('6815c425db82bdb07e57a281'), ObjectId('6815c425db82bdb07e57a282'), ObjectId('6815c425db82bdb07e57a283'), ObjectId('6815c425db82bdb07e57a284'), ObjectId('6815c425db82bdb07e57a285'), ObjectId('6815c425db82bdb07e57a286'), ObjectId('6815c425db82bdb07e57a287'), ObjectId('6815c425db82bdb07e57a288'), ObjectId('6815c425db82bdb07e57a289'), ObjectId('6815c425db82bdb07e57a28a'), ObjectId('6815c425db82bdb07e57a28b'), ObjectId('6815c425db82bdb07e57a28c'), ObjectId('6815c425db82bdb07e57a28d'), ObjectId('6815c425db82bdb07e57a28e'), ObjectId('6815c425db82bdb07e57a28f'), ObjectId('6815c425db82bdb07e57a290'), ObjectId('6815c425db82bdb07e57a291'), ObjectId('6815c425db82bdb07e57a292'), ObjectId('6815c425db82bdb07e57a293'), ObjectId('6815c425db82bdb07e57a294'), ObjectId('6815c425db82bdb07e57a295'), ObjectId('6815c425db82bdb07e57a296'), ObjectId('6815c425db82bdb07e57a297'), ObjectId('6815c425db82bdb07e57a298'), ObjectId('6815c425db82bdb07e57a299'), ObjectId('6815c425db82bdb07e57a29a'), ObjectId('6815c425db82bdb07e57a29b'), ObjectId('6815c425db82bdb07e57a29c'), ObjectId('6815c425db82bdb07e57a29d'), ObjectId('6815c425db82bdb07e57a29e'), ObjectId('6815c425db82bdb07e57a29f'), ObjectId('6815c425db82bdb07e57a2a0'), ObjectId('6815c425db82bdb07e57a2a1'), ObjectId('6815c425db82bdb07e57a2a2'), ObjectId('6815c425db82bdb07e57a2a3'), ObjectId('6815c425db82bdb07e57a2a4'), ObjectId('6815c425db82bdb07e57a2a5'), ObjectId('6815c425db82bdb07e57a2a6'), ObjectId('6815c425db82bdb07e57a2a7'), ObjectId('6815c425db82bdb07e57a2a8'), ObjectId('6815c425db82bdb07e57a2a9'), ObjectId('6815c425db82bdb07e57a2aa'), ObjectId('6815c425db82bdb07e57a2ab'), ObjectId('6815c425db82bdb07e57a2ac'), ObjectId('6815c425db82bdb07e57a2ad'), ObjectId('6815c425db82bdb07e57a2ae'), ObjectId('6815c425db82bdb07e57a2af'), ObjectId('6815c425db82bdb07e57a2b0'), ObjectId('6815c425db82bdb07e57a2b1'), ObjectId('6815c425db82bdb07e57a2b2'), ObjectId('6815c425db82bdb07e57a2b3'), ObjectId('6815c425db82bdb07e57a2b4'), ObjectId('6815c425db82bdb07e57a2b5'), ObjectId('6815c425db82bdb07e57a2b6')], acknowledged=True)"
      ]
     },
     "execution_count": 15,
     "metadata": {},
     "output_type": "execute_result"
    }
   ],
   "source": [
    "ctlg_fields.insert_many(responses)"
   ]
  }
 ],
 "metadata": {
  "kernelspec": {
   "display_name": ".venv",
   "language": "python",
   "name": "python3"
  },
  "language_info": {
   "codemirror_mode": {
    "name": "ipython",
    "version": 3
   },
   "file_extension": ".py",
   "mimetype": "text/x-python",
   "name": "python",
   "nbconvert_exporter": "python",
   "pygments_lexer": "ipython3",
   "version": "3.12.8"
  }
 },
 "nbformat": 4,
 "nbformat_minor": 5
}
