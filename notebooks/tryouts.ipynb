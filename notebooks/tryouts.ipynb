{
 "cells": [
  {
   "cell_type": "code",
   "execution_count": 1,
   "id": "0190b2ee",
   "metadata": {},
   "outputs": [
    {
     "name": "stderr",
     "output_type": "stream",
     "text": [
      "/data102/vijay/datatalker/.venv/lib/python3.12/site-packages/tqdm/auto.py:21: TqdmWarning: IProgress not found. Please update jupyter and ipywidgets. See https://ipywidgets.readthedocs.io/en/stable/user_install.html\n",
      "  from .autonotebook import tqdm as notebook_tqdm\n"
     ]
    }
   ],
   "source": [
    "from datatalker import DataTalker\n",
    "import dspy\n",
    "\n",
    "if not dspy.settings.get(\"lm\"):\n",
    "    lm = dspy.LM(model=\"ollama_chat/gemma3\", api_base=\"http://localhost:11434\")\n",
    "    dspy.configure(lm=lm)"
   ]
  },
  {
   "cell_type": "code",
   "execution_count": 2,
   "id": "737d5716",
   "metadata": {},
   "outputs": [],
   "source": [
    "talker = DataTalker()"
   ]
  },
  {
   "cell_type": "code",
   "execution_count": 3,
   "id": "09258e09",
   "metadata": {},
   "outputs": [
    {
     "name": "stdout",
     "output_type": "stream",
     "text": [
      "Classified intent: dataset_discovery (confidence: 0.95)\n",
      "Fetching datasets\n",
      "Found 20 similar documents in the vectorstore\n",
      "IsRelevant(True) Statistics of Index Number of Agricultural Production and Percentage contribution of Agriculture to Total State income in Punjab\n",
      "##### [Statistics of Index Number of Agricultural Production and Percentage contribution of Agriculture to Total State income in Punjab](https://data.gov.in/catalog/statistics-index-number-agricultural-production-and-percentage-contribution-agriculture)\n",
      "By analyzing the dataset description and matching it with the query, we can determine that the dataset is relevant due to its focus on agricultural productivity in Punjab.\n",
      "\n",
      "IsRelevant(True) Crop wise Gross Irrigated Area in Punjab\n",
      "##### [Crop wise Gross Irrigated Area in Punjab](https://data.gov.in/catalog/crop-wise-gross-irrigated-area-punjab)\n",
      "By analyzing the keywords and sectors mentioned in the dataset description, such as 'Agriculture', 'Irrigation', and 'Gross Irrigated Area', it can be inferred that this data is relevant to understanding agricultural productivity in Punjab.\n",
      "\n",
      "IsRelevant(True) Selected Economic Indicator in Punjab (Rural Area)\n",
      "##### [Selected Economic Indicator in Punjab (Rural Area)](https://data.gov.in/catalog/selected-economic-indicator-punjab-rural-area)\n",
      "The dataset is relevant to the query because it provides data on agricultural productivity in Punjab, including metrics such as gross area sown, net area sown per agricultural worker, and intensity of cropping. The data also includes information on different crops, which can be used to assess overall agricultural productivity.\n",
      "\n",
      "IsRelevant(True) Area, Production and Yield of Food Grains Cultivation in Punjab\n",
      "##### [Area, Production and Yield of Food Grains Cultivation in Punjab](https://data.gov.in/catalog/area-production-and-yield-food-grains-cultivation-punjab-0)\n",
      "The dataset is likely to be relevant because it provides specific data on food grains cultivation in Punjab, which can help assess agricultural productivity in the region.\n",
      "\n",
      "IsRelevant(True) Area, Production and Yield of Food Grains Cultivation in Punjab\n",
      "##### [Area, Production and Yield of Food Grains Cultivation in Punjab](https://data.gov.in/catalog/area-production-and-yield-food-grains-cultivation-punjab)\n",
      "This assessment was made by analyzing the dataset description and query keywords to determine if the dataset covers the intended geography (Punjab) and time period (implied by the focus on food grain cultivation).\n",
      "\n",
      "IsRelevant(False) Production,Sale and Employment in village industries in Punjab\n",
      "IsRelevant(False) District-wise market arrivals of important crops\n",
      "IsRelevant(False) Production, Sale and Employment in Village Industries\n",
      "IsRelevant(True) Consumption of Chemical Fertilizers in Punjab\n",
      "##### [Consumption of Chemical Fertilizers in Punjab](https://data.gov.in/catalog/consumption-chemical-fertilizers-punjab)\n",
      "By analyzing the keywords related to agriculture, fertilizer consumption, and the specific focus on Punjab, it can be inferred that this dataset is relevant to finding data related to agricultural productivity in the region.\n",
      "\n",
      "IsRelevant(False) Production and Employment of Selected Industries in Punjab\n",
      "IsRelevant(False) Statistics of Marketing and Storage of Punjab\n",
      "IsRelevant(False) Agricultural Workers & Total Workers in Punjab\n",
      "IsRelevant(False) Per Capita Annual Earning of Workers in Punjab\n",
      "IsRelevant(False) Number of Non-agricultural Establishment and persons usually working as in Economic Census (1977,1980, 1990,1998,2005 and 2013) in Punjab\n",
      "IsRelevant(True) Statistics of Livestock,Animal Husbandry and Dairying\n",
      "##### [Statistics of Livestock,Animal Husbandry and Dairying](https://data.gov.in/catalog/statistics-livestockanimal-husbandry-and-dairying)\n",
      "The dataset covers specific metrics related to agricultural productivity, such as milk production and per capita availability of milk, which are directly related to the query's focus on agricultural productivity in Punjab.\n",
      "\n",
      "IsRelevant(False) Production and Employment of Manufacturing Industries\n",
      "IsRelevant(False)  Average Revenue per Unit Sold and Per Consumer in Punjab\n",
      "IsRelevant(True) Number of Enterprises and Persons usually working in Punjab (Rural & Urban) of 1980,1998,2005 and 2013)\n",
      "##### [Number of Enterprises and Persons usually working in Punjab (Rural & Urban) of 1980,1998,2005 and 2013)](https://data.gov.in/catalog/number-enterprises-and-persons-usually-working-punjab-rural-urban-198019982005-and-2013)\n",
      "By analyzing the keywords related to the dataset, such as 'agricultural activities', 'production', and 'plantation', it can be inferred that the data covers agricultural productivity in Punjab. The presence of specific years also indicates that the data provides a historical perspective on the state's agricultural sector.\n",
      "\n",
      "IsRelevant(False) Factories and Workers Employed \n",
      "IsRelevant(True) Area under Food and Non Food Crops Cultivation during Kharif and Rabi season in Punjab\n",
      "##### [Area under Food and Non Food Crops Cultivation during Kharif and Rabi season in Punjab](https://data.gov.in/catalog/area-under-food-and-non-food-crops-cultivation-during-kharif-and-rabi-season-punjab)\n",
      "The dataset is relevant because it provides specific data on crop cultivation areas, which can be used to assess agricultural productivity in Punjab. The dataset's focus on kharif and rabi seasons also makes it relevant for understanding seasonal variations in agricultural output.\n",
      "\n"
     ]
    }
   ],
   "source": [
    "gen = talker.respond(\"Find data related to agricultural productivity in Punjab.\", [])\n",
    "while True:\n",
    "  resp = next(gen, None)\n",
    "  if resp is None:\n",
    "    break\n",
    "  print(resp)\n",
    "  "
   ]
  }
 ],
 "metadata": {
  "kernelspec": {
   "display_name": ".venv",
   "language": "python",
   "name": "python3"
  },
  "language_info": {
   "codemirror_mode": {
    "name": "ipython",
    "version": 3
   },
   "file_extension": ".py",
   "mimetype": "text/x-python",
   "name": "python",
   "nbconvert_exporter": "python",
   "pygments_lexer": "ipython3",
   "version": "3.12.8"
  }
 },
 "nbformat": 4,
 "nbformat_minor": 5
}
