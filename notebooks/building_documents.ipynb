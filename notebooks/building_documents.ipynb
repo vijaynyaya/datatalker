{
 "cells": [
  {
   "cell_type": "code",
   "execution_count": 1,
   "id": "0eb2855c",
   "metadata": {},
   "outputs": [],
   "source": [
    "from pymongo import MongoClient\n",
    "\n",
    "client = MongoClient(\"mongodb://localhost:27017/\")\n",
    "\n",
    "db = client[\"datatalker\"]\n",
    "ctlgs = db[\"ogd_catalogs\"]\n",
    "rsrcs = db[\"ogd_resources\"]"
   ]
  },
  {
   "cell_type": "code",
   "execution_count": 28,
   "id": "d5bef93c",
   "metadata": {},
   "outputs": [
    {
     "data": {
      "text/plain": [
       "[0, 1, '0', '1']"
      ]
     },
     "execution_count": 28,
     "metadata": {},
     "output_type": "execute_result"
    }
   ],
   "source": [
    "ctlgs.distinct(\"is_api_available\")"
   ]
  },
  {
   "cell_type": "code",
   "execution_count": 6,
   "id": "44dd4dbb",
   "metadata": {},
   "outputs": [
    {
     "data": {
      "text/plain": [
       "{'_id': ObjectId('6813021260284fbf048a3df2'),\n",
       " 'api_request_count': [2],\n",
       " 'having_api': [1],\n",
       " 'high_value_dataset': [1],\n",
       " 'is_api_available': [0],\n",
       " 'is_priced': [0],\n",
       " 'is_webservice': [1],\n",
       " 'node_alias': ['/catalog/current-daily-price-various-commodities-various-markets-mandi'],\n",
       " 'ogdp_custom_field': ['test'],\n",
       " 'ogdp_view_count': [1292388],\n",
       " 'published_date': [1369368430],\n",
       " 'body:value': ['The data refers to prices of various commodities. It has the wholesale maximum price, minimum price and modal price on daily basis. This dataset is generated through the AGMARKNET Portal (http://agmarknet.gov.in), which disseminates daily market information of various commodities.'],\n",
       " 'changed': [1746068420],\n",
       " 'created': [1369290300],\n",
       " 'field_asset_jurisdiction:name': ['All India'],\n",
       " 'field_ds_govt_type': ['Central'],\n",
       " 'field_group_name:name': ['Agricultural Marketing'],\n",
       " 'field_ministry_department:name': ['Ministry of Agriculture and Farmers Welfare',\n",
       "  'Department of Agriculture and Farmers Welfare',\n",
       "  'Directorate of Marketing and Inspection (DMI)'],\n",
       " 'field_sector:name': ['Agriculture', 'Agricultural Marketing'],\n",
       " 'from_api': ['1'],\n",
       " 'govt_type': ['Central'],\n",
       " 'keywords': ['mandi', 'Price', 'Agriculture', 'Commodity', 'Market', 'Rate'],\n",
       " 'nid': [86944],\n",
       " 'ogpl_module_domain_access': ['4', '4'],\n",
       " 'ogpl_module_domain_name': ['data.gov.in'],\n",
       " 'title': ['Current daily price of various commodities from various markets (Mandi)'],\n",
       " 'uuid': ['6141ea17-a69d-4713-b600-0a43c8fd9a6c'],\n",
       " 'vid': [12726161],\n",
       " 'view_count': [1280866],\n",
       " 'search_api_id': ['entity:node/86944:en'],\n",
       " 'search_api_datasource': ['entity:node'],\n",
       " 'search_api_language': ['en'],\n",
       " '_freq_wise_not_updated': [0],\n",
       " '_freq_wise_schedule': [1],\n",
       " 'data_time_period_from': 1716229800,\n",
       " '_freq_wise_updated': [2],\n",
       " '_freq_wise_total_resources': [2],\n",
       " 'data_time_period_to': 1716229800,\n",
       " 'frequency': ['Daily'],\n",
       " 'frequency_data_series': [{'data': [{'x': 'Range',\n",
       "     'y': [1716229800, 1716229800]}]}],\n",
       " 'ai_long_text': 'The Current Daily Price of Various Commodities from Various Markets (Mandi) catalog provides daily price data for agricultural commodities across India. The data is sourced from the AGMARKNET Portal and includes wholesale maximum, minimum, and modal prices. Updates are daily, and the geographical scope is All India. The dataset is maintained by the Ministry of Agriculture and Farmers Welfare and the Directorate of Marketing and Inspection (DMI). It’s a high-value dataset with 1,280,866 views. The catalog is accessible via a webservice, but the API is not available. The data is updated daily and is used to track price trends in agricultural markets.'}"
      ]
     },
     "execution_count": 6,
     "metadata": {},
     "output_type": "execute_result"
    }
   ],
   "source": [
    "agmarknet_ctlg_uuid = \"6141ea17-a69d-4713-b600-0a43c8fd9a6c\"\n",
    "some_jjm_ctlg_uuid = \"1f13a8ca-dd4b-4bf6-9d14-f86cff8ae49a\"\n",
    "ctlg = ctlgs.find_one({\"uuid\": agmarknet_ctlg_uuid})\n",
    "ctlg"
   ]
  },
  {
   "cell_type": "code",
   "execution_count": 4,
   "id": "84d138b5",
   "metadata": {},
   "outputs": [],
   "source": [
    "catalog_schema_notes = \"\"\"\n",
    "Your job is to write a professional long descripton of the Catalog using the following notes on its schema. Highlight it's content, spatio-temporal span, data collection methodology or body, and potential use cases.\n",
    "\n",
    "Schema Note 1: 0 and 1 is used to represent boolean for the following fields.\n",
    "  - having_api\n",
    "  - high_value_dataset\n",
    "  - is_api_available\n",
    "  - is_priced\n",
    "  - is_webservice\n",
    "  - from_api\n",
    "\n",
    "\n",
    "Schema Note 2: ogdp_custom_field's value is always 'test'.\n",
    "\n",
    "\n",
    "Schema Note 3: Some fields provide useful information for determining the spatial and temporal coverage of the dataset, and the jurisdiction of the data collecting government body.\n",
    "  - field_asset_jurisdiction:name # administrative geography covered by the dataset\n",
    "  - field_ds_govt_type # central government or state government\n",
    "  - field_group_name:name # a convinient field to group multiple datasets under a title\n",
    "  - field_ministry_department:name # central government ministry or department, only provided when government type is central\n",
    "  - field_state_department:name # state department, only provided when the government type is state\n",
    "  - data_time_period_from # starting point of the time period for which the data is available\n",
    "  - data_time_period_to # ending point of the time period for which the data is available\n",
    "  - frequency # the time interval at which the data is collected\n",
    "\n",
    "\n",
    "Schema Note 4: Some fields provide a semantic description of the dataset.\n",
    "  - title # title of the catalog\n",
    "  - body:value # short description of the catalog\n",
    "  - field_search_keywords # search optimization keywords for the dataset\n",
    "  - keywords # simillar to field_serach_keywords\n",
    "  - field_sector:name # A high level label to classify datasets by their information/problem domain.\n",
    "\n",
    "\n",
    "Schema Note 4: Ignore all the keys which start with underscore or 'search' such as _id or search_api_language. Addtionally, it's okay to ignore the following fields as they are of little use.\n",
    "  - odgp_custom_field\n",
    "  - ogdp_module_domain_access\n",
    "  - ogdp_module_domain_name\n",
    "\n",
    "\n",
    "Schema Note 5: Some fields provide optionally useful information from the point of view of a data maintainer or user analytics.\n",
    "  - changed # timestamp when the dataset was last modified\n",
    "  - created # timestamp when the dataset was created\n",
    "  - api_request_count\n",
    "  - high_value_dataset # features as a high value dataset on the data portal\n",
    "  - published_date # date at which the dataset was made public\n",
    "  - view_count # number of times users viewed this dataset\n",
    "\n",
    "\n",
    "Schema Note 6: The following fields are only useful internally when working with the API, and should not become part of any user facing content.\n",
    "  - uuid # Catalog UUID\n",
    "  - nid\n",
    "  - vid\n",
    "  - node_alias # url path to navigate to the catalog webpage\n",
    "\n",
    "\n",
    "API Usage Note 1: Records can only be fetched using the '/catalog' path when the catalog API is avaliable.\n",
    "// pseudocode for fetching catalog data\n",
    "// if catalog.is_api_available[0] == 1:\n",
    "//  data = fetch_records(\"https://api.data.gov.in/catalog/{catalog_uuid}\") \n",
    "\n",
    "\n",
    "API Usage Note 2: To fetch the data for catalog with no available API, one can dig into the resources pointing to the dataset.\n",
    "// SELECT * FROM resources WHERE catalog_uuid={catalog_uuid};\n",
    "\"\"\""
   ]
  },
  {
   "cell_type": "code",
   "execution_count": 2,
   "id": "5f79a3d1",
   "metadata": {},
   "outputs": [
    {
     "name": "stderr",
     "output_type": "stream",
     "text": [
      "/data102/vijay/datatalker/.venv/lib/python3.12/site-packages/tqdm/auto.py:21: TqdmWarning: IProgress not found. Please update jupyter and ipywidgets. See https://ipywidgets.readthedocs.io/en/stable/user_install.html\n",
      "  from .autonotebook import tqdm as notebook_tqdm\n"
     ]
    },
    {
     "data": {
      "text/plain": [
       "['Hi there! How’s your day going so far? 😊 \\n\\nIs there anything you’d like to chat about, or were you just saying hello?']"
      ]
     },
     "execution_count": 2,
     "metadata": {},
     "output_type": "execute_result"
    }
   ],
   "source": [
    "import dspy\n",
    "lm = dspy.LM(model=\"ollama_chat/gemma3\", api_base=\"http://localhost:11434\")\n",
    "dspy.configure(lm=lm)\n",
    "lm(\"hi!\")"
   ]
  },
  {
   "cell_type": "code",
   "execution_count": 5,
   "id": "787b93e7",
   "metadata": {},
   "outputs": [],
   "source": [
    "WriteDescription = dspy.Signature(\n",
    "    \"catalog_json -> textual_description\",\n",
    "    catalog_schema_notes\n",
    ")"
   ]
  },
  {
   "cell_type": "code",
   "execution_count": 6,
   "id": "3dfd4488",
   "metadata": {},
   "outputs": [],
   "source": [
    "writer = dspy.ChainOfThought(WriteDescription)"
   ]
  },
  {
   "cell_type": "code",
   "execution_count": 56,
   "id": "1fdb0ac4",
   "metadata": {},
   "outputs": [
    {
     "name": "stdout",
     "output_type": "stream",
     "text": [
      "The data refers to prices of various commodities. It has the wholesale maximum price, minimum price\n",
      "and modal price on daily basis. This dataset is generated through the AGMARKNET Portal\n",
      "(http://agmarknet.gov.in), which disseminates daily market information of various commodities.\n",
      "\n",
      "The Current Daily Price of Various Commodities from Various Markets (Mandi) catalog provides daily\n",
      "price data for agricultural commodities across India. The data is sourced from the AGMARKNET Portal\n",
      "and includes wholesale maximum, minimum, and modal prices. Updates are daily, and the geographical\n",
      "scope is All India. The dataset is maintained by the Ministry of Agriculture and Farmers Welfare and\n",
      "the Directorate of Marketing and Inspection (DMI). It’s a high-value dataset with 1,280,866 views.\n",
      "The catalog is accessible via a webservice, but the API is not available. The data is updated daily\n",
      "and is used to track price trends in agricultural markets.\n"
     ]
    },
    {
     "data": {
      "text/plain": [
       "Prediction(\n",
       "    reasoning='The provided JSON data describes a catalog of daily commodity prices sourced from the AGMARKNET Portal. The catalog provides wholesale maximum, minimum, and modal prices for various agricultural commodities across different markets (mandi) in India. Key information includes the data source (AGMARKNET), the frequency of updates (Daily), the geographical scope (All India), the government type (Central), and the number of views (1,280,866). The catalog is considered a high-value dataset and is accessible via a webservice. The API is not available. The data is maintained by the Ministry of Agriculture and Farmers Welfare and the Directorate of Marketing and Inspection (DMI). The catalog is used to track price trends in agricultural markets.',\n",
       "    textual_description='The Current Daily Price of Various Commodities from Various Markets (Mandi) catalog provides daily price data for agricultural commodities across India. The data is sourced from the AGMARKNET Portal and includes wholesale maximum, minimum, and modal prices. Updates are daily, and the geographical scope is All India. The dataset is maintained by the Ministry of Agriculture and Farmers Welfare and the Directorate of Marketing and Inspection (DMI). It’s a high-value dataset with 1,280,866 views. The catalog is accessible via a webservice, but the API is not available. The data is updated daily and is used to track price trends in agricultural markets.'\n",
       ")"
      ]
     },
     "execution_count": 56,
     "metadata": {},
     "output_type": "execute_result"
    }
   ],
   "source": [
    "import textwrap\n",
    "\n",
    "with dspy.context(lm=dspy.LM(\"ollama_chat/gemma3\", api_base=\"http://localhost:11434\")):\n",
    "  print(textwrap.fill(ctlg[\"body:value\"][0], width=100))\n",
    "  gen = writer(\n",
    "      catalog_json=ctlg,\n",
    "  )\n",
    "  print()\n",
    "  print(textwrap.fill(gen.textual_description, width=100))\n",
    "gen"
   ]
  },
  {
   "cell_type": "code",
   "execution_count": 7,
   "id": "9205f19c",
   "metadata": {},
   "outputs": [
    {
     "data": {
      "text/plain": [
       "12451"
      ]
     },
     "execution_count": 7,
     "metadata": {},
     "output_type": "execute_result"
    }
   ],
   "source": [
    "ctlgs.count_documents({})"
   ]
  },
  {
   "cell_type": "code",
   "execution_count": 10,
   "id": "1454959e",
   "metadata": {},
   "outputs": [
    {
     "name": "stderr",
     "output_type": "stream",
     "text": [
      "  0%|          | 0/4455 [00:00<?, ?it/s]"
     ]
    },
    {
     "name": "stderr",
     "output_type": "stream",
     "text": [
      " 20%|█▉        | 877/4455 [51:08<3:53:26,  3.91s/it]2025/05/03 16:58:18 WARNING dspy.adapters.json_adapter: Failed to use structured output format. Falling back to JSON mode. Error: 'type' object is not iterable\n",
      " 32%|███▏      | 1439/4455 [1:27:56<2:38:40,  3.16s/it]2025/05/03 17:35:15 WARNING dspy.adapters.json_adapter: Failed to use structured output format. Falling back to JSON mode. Error: 'type' object is not iterable\n",
      " 36%|███▌      | 1583/4455 [1:36:40<3:19:25,  4.17s/it]2025/05/03 17:43:51 WARNING dspy.adapters.json_adapter: Failed to use structured output format. Falling back to JSON mode. Error: 'type' object is not iterable\n",
      " 41%|████▏     | 1842/4455 [1:51:34<2:54:36,  4.01s/it]2025/05/03 17:58:52 WARNING dspy.adapters.json_adapter: Failed to use structured output format. Falling back to JSON mode. Error: 'type' object is not iterable\n",
      " 44%|████▍     | 1980/4455 [1:59:31<2:12:19,  3.21s/it]2025/05/03 18:06:49 WARNING dspy.adapters.json_adapter: Failed to use structured output format. Falling back to JSON mode. Error: 'type' object is not iterable\n",
      " 47%|████▋     | 2099/4455 [2:06:40<2:16:44,  3.48s/it]2025/05/03 18:13:59 WARNING dspy.adapters.json_adapter: Failed to use structured output format. Falling back to JSON mode. Error: 'type' object is not iterable\n",
      " 54%|█████▎    | 2391/4455 [2:23:51<2:00:01,  3.49s/it]2025/05/03 18:31:09 WARNING dspy.adapters.json_adapter: Failed to use structured output format. Falling back to JSON mode. Error: 'type' object is not iterable\n",
      " 66%|██████▋   | 2962/4455 [2:58:05<1:18:24,  3.15s/it]2025/05/03 19:05:23 WARNING dspy.adapters.json_adapter: Failed to use structured output format. Falling back to JSON mode. Error: 'type' object is not iterable\n",
      " 67%|██████▋   | 2983/4455 [2:59:20<1:14:51,  3.05s/it]2025/05/03 19:06:39 WARNING dspy.adapters.json_adapter: Failed to use structured output format. Falling back to JSON mode. Error: 'type' object is not iterable\n",
      " 67%|██████▋   | 2986/4455 [2:59:40<1:52:40,  4.60s/it]2025/05/03 19:06:58 WARNING dspy.adapters.json_adapter: Failed to use structured output format. Falling back to JSON mode. Error: 'type' object is not iterable\n",
      " 70%|███████   | 3122/4455 [3:07:35<1:13:13,  3.30s/it]2025/05/03 19:14:53 WARNING dspy.adapters.json_adapter: Failed to use structured output format. Falling back to JSON mode. Error: 'type' object is not iterable\n",
      " 70%|███████   | 3137/4455 [3:08:34<1:10:12,  3.20s/it]2025/05/03 19:15:53 WARNING dspy.adapters.json_adapter: Failed to use structured output format. Falling back to JSON mode. Error: 'type' object is not iterable\n",
      " 71%|███████   | 3151/4455 [3:09:36<1:12:41,  3.34s/it]2025/05/03 19:16:55 WARNING dspy.adapters.json_adapter: Failed to use structured output format. Falling back to JSON mode. Error: 'type' object is not iterable\n",
      " 76%|███████▋  | 3401/4455 [3:23:42<58:52,  3.35s/it]  2025/05/03 19:31:00 WARNING dspy.adapters.json_adapter: Failed to use structured output format. Falling back to JSON mode. Error: 'type' object is not iterable\n",
      " 80%|████████  | 3577/4455 [3:33:53<45:43,  3.12s/it]  2025/05/03 19:41:11 WARNING dspy.adapters.json_adapter: Failed to use structured output format. Falling back to JSON mode. Error: 'type' object is not iterable\n",
      " 81%|████████  | 3593/4455 [3:34:58<52:29,  3.65s/it]  2025/05/03 19:42:16 WARNING dspy.adapters.json_adapter: Failed to use structured output format. Falling back to JSON mode. Error: 'type' object is not iterable\n",
      "100%|██████████| 4455/4455 [4:22:44<00:00,  3.54s/it]  \n"
     ]
    }
   ],
   "source": [
    "from tqdm import tqdm\n",
    "\n",
    "for ctlg in tqdm(ctlgs.find({\"ai_long_text\": {\"$exists\": 0}}), total=4455):\n",
    "  ai_writeup = writer(catalog_json=ctlg)\n",
    "  ctlgs.update_one({\"uuid\": ctlg[\"uuid\"]}, {\n",
    "    \"$set\": {\"ai_long_text\": ai_writeup.textual_description}\n",
    "  })"
   ]
  },
  {
   "cell_type": "code",
   "execution_count": 1,
   "id": "d1a0b2a1",
   "metadata": {},
   "outputs": [
    {
     "name": "stderr",
     "output_type": "stream",
     "text": [
      "/data102/vijay/datatalker/.venv/lib/python3.12/site-packages/tqdm/auto.py:21: TqdmWarning: IProgress not found. Please update jupyter and ipywidgets. See https://ipywidgets.readthedocs.io/en/stable/user_install.html\n",
      "  from .autonotebook import tqdm as notebook_tqdm\n"
     ]
    }
   ],
   "source": [
    "from chromadb import PersistentClient\n",
    "from datatalker.config import CHROMADB_DIR\n",
    "from datatalker.ogdp import DocumentAdapter\n",
    "from chromadb.utils.embedding_functions.ollama_embedding_function import (\n",
    "    OllamaEmbeddingFunction\n",
    ")"
   ]
  },
  {
   "cell_type": "code",
   "execution_count": 2,
   "id": "cf91bac5",
   "metadata": {},
   "outputs": [],
   "source": [
    "ollama_ef = OllamaEmbeddingFunction(\n",
    "  url=\"http://localhost:11434\",\n",
    "  model_name=\"bge-m3\"\n",
    ")"
   ]
  },
  {
   "cell_type": "code",
   "execution_count": 3,
   "id": "1e0f1431",
   "metadata": {},
   "outputs": [],
   "source": [
    "chroma = PersistentClient(\n",
    "    path=CHROMADB_DIR\n",
    ")\n",
    "datasets = chroma.get_or_create_collection(\n",
    "  \"datasets_bge-m3\",\n",
    "  embedding_function=ollama_ef\n",
    ")"
   ]
  },
  {
   "cell_type": "code",
   "execution_count": 4,
   "id": "58c92507",
   "metadata": {},
   "outputs": [
    {
     "data": {
      "text/plain": [
       "{'ids': ['ogd:catalog:afa77408-8ea8-438b-852c-4853f087b999',\n",
       "  'ogd:catalog:ef753aab-38e5-47d2-9fa5-e3d635cd9a1e',\n",
       "  'ogd:catalog:b8cb3c3e-25bc-4a49-9066-033e0068385a',\n",
       "  'ogd:catalog:848af7e0-4c64-4b95-9fb5-343495a463b5',\n",
       "  'ogd:catalog:4b339ac7-18d7-4576-9ea9-95f0501cd612',\n",
       "  'ogd:catalog:9166e625-3bea-4d2d-aea7-52cc1b447f08',\n",
       "  'ogd:catalog:43418445-20f0-44eb-8251-d163bcecf8af',\n",
       "  'ogd:catalog:49cf9a4a-9f02-4931-bd50-2fe432f0bcab',\n",
       "  'ogd:catalog:148a6379-76d6-4652-9817-4676f502247c',\n",
       "  'ogd:catalog:560e038e-ce8e-42d5-aab9-e53e1417bd55'],\n",
       " 'embeddings': array([[-0.03835353, -0.03534721, -0.03108723, ..., -0.03816152,\n",
       "          0.00314629, -0.01740362],\n",
       "        [-0.05079083, -0.02483686, -0.04155719, ..., -0.02326389,\n",
       "          0.01268724, -0.00756219],\n",
       "        [-0.01459817,  0.02926313, -0.03315291, ..., -0.0179025 ,\n",
       "         -0.05203446,  0.00308013],\n",
       "        ...,\n",
       "        [-0.02487734,  0.00925774, -0.04612325, ..., -0.00696173,\n",
       "          0.0022013 , -0.04153474],\n",
       "        [-0.03178474, -0.01695156, -0.01894331, ...,  0.00973031,\n",
       "          0.0040271 , -0.00042449],\n",
       "        [-0.03519224,  0.01023115, -0.06227716, ...,  0.00566341,\n",
       "         -0.01300929, -0.03795446]], shape=(10, 1024)),\n",
       " 'documents': ['Title: Delhi Government School Details\\nDescription: The catalog contains district wise Number of Schools, Student Enrollment , Pass Percentage and Quality Index for Class X and XII \\nKeywords: [\\'student enrollment\\', \\'School\\', \\'Pass Percentage \\']\\nFrequency: Unknown\\nOpen Government Data Site: [\\'delhi.data.gov.in\\']Government Type: None\\nAsset Jurisdiction Name: [\\'Delhi (NCT)\\']\\nGroup Name Name: [\\'School Statistics\\']\\nSector Name: [\\'Education\\']\\nAI Summary: The Delhi Government School Details catalog offers a comprehensive overview of educational institutions within the Delhi National Capital Territory (NCT) of Delhi. This catalog provides district-level data, including the number of schools, student enrollment figures, pass percentages, and a quality index, specifically for Classes X and XII. The data is valuable for researchers, policymakers, and the public seeking insights into the educational landscape of Delhi. The catalog is categorized under \"School Statistics\" and falls under the \"Education\" sector. It was created on [1746003830] and last changed on [1746005477]. The catalog is accessible via the node_alias \\'/catalog/delhi-government-school-details\\'. Note that the API is not available, and the data can be accessed by exploring the linked resources.',\n",
       "  'Title: Railway Route Length in Gujarat\\nDescription: It contains Year wise information on Railway route length like Broad gauge, Meter gauge, Narrow Gauge, Total Railway length in Gujarat.\\nKeywords: [\\'Railway\\', \\'meter gauge\\', \\'Broad gauge\\', \\'Narrow Gauge\\']\\nFrequency: Unknown\\nOpen Government Data Site: [\\'data.gov.in\\']Government Type: [\\'State\\']\\nAsset Jurisdiction Name: [\\'Gandhinagar\\']\\nDs Govt Type: [\\'State\\']\\nSector Name: [\\'Railways\\']\\nState Department Name: [\\'Gujarat\\', \\'General Administration Department, Gujarat\\', \\'Directorate of Economics & Statistics, Gujarat\\']\\nAI Summary: This catalog entry represents a dataset detailing railway route lengths within the state of Gujarat. The dataset, titled \"Railway Route Length in Gujarat,\" provides year-wise information categorized by gauge types (Broad gauge, Meter gauge, Narrow Gauge) and the total railway length. The data is maintained by the Gujarat government, specifically the General Administration Department and the Directorate of Economics & Statistics. The dataset is classified under the \\'Railways\\' sector and is accessible via the URL \\'/catalog/railway-route-length-gujarat\\'. As of the last update (timestamp 1744695743), the dataset has been viewed 9 times. The data is available through the data.gov.in portal.',\n",
       "  'Title: Completed Building Details of KSPH&IDCL\\nDescription: District wise completed Building derails \\nKeywords: [\\'Karnataka State Police Housing  and Infrastructure Development Corporation Limited\\']\\nFrequency: None\\nOpen Government Data Site: [\\'karnataka.data.gov.in\\']Government Type: [\\'State\\']\\nAsset Jurisdiction Name: [\\'Bangalore Urban\\']\\nDs Govt Type: [\\'State\\']\\nSector Name: [\\'Home Affairs and Enforcement\\']\\nState Department Name: [\\'Karnataka\\', \\'Home Department, Karnataka\\', \\'Karnataka State Police Housing and Infrastructure Development Corporation Limited\\']\\nAI Summary: This catalog contains district-wise details of completed buildings, provided by the Karnataka State Police Housing and Infrastructure Development Corporation Limited (KSPH&IDCL). The dataset, identified by the UUID b8cb3c3e-25bc-4a49-9066-033e0068385a, offers a snapshot of completed building information within Karnataka. The data covers a single time period, from 1741977000 to 1741977000. It\\'s classified under the \"Home Affairs and Enforcement\" sector. The dataset has a view count of 2 and was created on 1742038454, with a last change timestamp of 1742187840. The dataset is a state-level resource, managed by the Karnataka State Police Housing and Infrastructure Development Corporation Limited. The node alias is /catalog/completed-building-details-ksphidcl.',\n",
       "  'Title: Road Statistics of Karnataka State\\nDescription: This catalog involves the dataset regarding the length of roads in Karnataka\\nKeywords: [\\'Public works\\', \\'Road Statistics \\', \\'Road Length\\']\\nFrequency: None\\nOpen Government Data Site: [\\'karnataka.data.gov.in\\']Government Type: [\\'State\\']\\nAsset Jurisdiction Name: [\\'Bangalore Urban\\']\\nDs Govt Type: [\\'State\\']\\nSector Name: [\\'Roads\\']\\nState Department Name: [\\'application/java-archive\\', \\'application/x-gzip\\', \\'application/vnd.ms-project\\', \\'application/vnd.ms-project\\']\\nAI Summary: This catalog provides access to road statistics for Karnataka State. The dataset, titled \"Road Statistics of Karnataka State,\" details the length of roads within the state. It is categorized under the \\'Roads\\' sector and represents a state-level dataset. The data is sourced from the Karnataka State government and covers a single time period, from 1741890600 to 1741890600. The dataset is flagged as a high-value dataset. The API is not available, and the data is accessible through a web-based resource. The dataset is associated with the Bangalore Urban jurisdiction. The data collection methodology is not explicitly detailed in this JSON, but it\\'s implied to be a statistical survey of road lengths.',\n",
       "  \"Title: Banking Statistics in Gujarat\\nDescription: It contains information on various statistics related to banking sector such as District-wise Bank offices, credit, deposit, Credit- Deposit Ratio. Advances to Priority Sectors, Scheduled commercial banks etc.\\nKeywords: ['Banking', 'Bank Offices', 'Credit', 'Deposit', 'CDR', 'Priority Sectors', 'Advances to Priority Sectors']\\nFrequency: Unknown\\nOpen Government Data Site: ['data.gov.in']Government Type: ['State']\\nAsset Jurisdiction Name: ['Gandhinagar']\\nDs Govt Type: ['State']\\nSector Name: ['Banking']\\nState Department Name: ['Gujarat', 'General Administration Department, Gujarat', 'Directorate of Economics & Statistics, Gujarat']\\nAI Summary: **Banking Statistics in Gujarat**\\n\\nThis catalog provides access to banking statistics for the state of Gujarat, India. The data includes information on bank offices, credit, deposit, and credit-deposit ratios, as well as advances to priority sectors and details on scheduled commercial banks. The dataset is maintained by the Directorate of Economics & Statistics, Gujarat, and is categorized under the 'Banking' sector. It offers insights into the financial landscape of Gujarat, supporting analysis of banking trends and performance within the state. As of November 2, 2023, the dataset has been viewed 193 times.\",\n",
       "  'Title: Livestock Census in Gujarat State\\nDescription: The users can get data on details of Cattle, Buffalo, Sheep, Goat, Horse, Pony, Mule, Donkey, Camel and Pig in Rural and Urban combined at State level. Livestock census covers the census of livestock, poultry, implements and machinery used for livestock rearing. It is the only source for providing various kind of detailed information for these groups. Livestock Census conducted in every five years.\\nKeywords: [\\'Livestock census\\', \\'Livestock Population\\', \\'Cattle\\', \\'Buffalo\\', \\'Sheep\\', \\'Goat\\', \\'Poultry\\']\\nFrequency: Unknown\\nOpen Government Data Site: [\\'data.gov.in\\']Government Type: [\\'State\\']\\nAsset Jurisdiction Name: [\\'Gandhinagar\\']\\nDs Govt Type: [\\'State\\']\\nGroup Name Name: [\\'Livestock Census\\']\\nSector Name: [\\'Statistics\\']\\nState Department Name: [\\'Gujarat\\', \\'General Administration Department, Gujarat\\', \\'Directorate of Economics & Statistics, Gujarat\\']\\nAI Summary: The \"Livestock Census in Gujarat State\" dataset provides detailed information on livestock populations across Gujarat, encompassing cattle, buffalo, sheep, goat, horse, pony, mule, donkey, camel, and pig. Conducted every five years, this census covers both rural and urban areas and includes data on livestock, poultry, implements, and machinery used for livestock rearing. The data is maintained by the Directorate of Economics & Statistics, Gujarat, and is a valuable resource for understanding livestock populations within the state. The dataset is categorized under the \\'Statistics\\' sector and has been viewed 190 times.',\n",
       "  \"Title: Animal Husbandry and Dairying Statistics in Gujarat State\\nDescription: It contains information on various statistics related to animal husbandry and its allied activities like milk production, wool production, various infrastructure facilities, infrastructure related to dairying etc.\\nKeywords: ['Milk Production', 'Animal Husbandry', 'Dairy']\\nFrequency: None\\nOpen Government Data Site: ['data.gov.in']Government Type: ['State']\\nAsset Jurisdiction Name: ['Gandhinagar']\\nDs Govt Type: ['State']\\nGroup Name Name: ['Agriculture', 'Animal Husbundary']\\nSector Name: ['Dairying']\\nState Department Name: ['application/java-archive', 'application/vnd.ms-powerpoint', 'application/vnd.ms-powerpoint', 'application/java-archive']\\nAI Summary: This catalog entry represents a dataset offering statistics related to animal husbandry and dairying activities specifically within the Gujarat state of India. The data encompasses key metrics such as milk and wool production, alongside information concerning associated infrastructure and facilities. The dataset is categorized under the 'Dairying' sector and is part of a broader grouping with 'Agriculture' and 'Animal Husbandry'. The data's time period spans from 954527400 to 1711823400. The dataset has been viewed twice and was created on June 2, 2023. The API for this catalog is currently unavailable.\",\n",
       "  'Title: Home Guards Actual Strength for the year 2023\\nDescription: Home Guards Actual Strength\\nKeywords: [\\'home guards Strength\\']\\nFrequency: None\\nOpen Government Data Site: [\\'karnataka.data.gov.in\\']Government Type: [\\'State\\']\\nAsset Jurisdiction Name: [\\'Bangalore Urban\\']\\nDs Govt Type: [\\'State\\']\\nSector Name: [\\'Police\\']\\nState Department Name: [\\'Karnataka\\', \\'Home Department, Karnataka\\', \\'Directorate of Home Guards and Civil Defense\\']\\nAI Summary: This catalog entry provides data on the \"Home Guards Actual Strength\" for the year 2023, sourced from the Karnataka State government. The dataset focuses on the strength of Home Guards within the Bangalore Urban area. It’s classified under the ‘Police’ sector and represents a high-value dataset, as indicated by the `high_value_dataset` field set to [0]. The data is available from 2023-07-06 to 2023-07-06.  The dataset was created on 2023-07-06 and has been viewed 6 times.  Due to the absence of an available API, accessing the underlying data requires exploring the resources linked to this catalog entry. The data is categorized under the \\'State\\' government type, with specific departments including the \\'Home Department, Karnataka\\' and the \\'Directorate of Home Guards and Civil Defense\\'.',\n",
       "  \"Title: CRIME REVEIW FOR THE YEAR 2025\\nDescription: CRIME_REVEIW_FOR_THE_YEAR_2025\\nKeywords: ['CRIMEREVEIWFORTHEYEAR2025']\\nFrequency: None\\nOpen Government Data Site: ['karnataka.data.gov.in']Government Type: ['State']\\nAsset Jurisdiction Name: ['Karnataka']\\nDs Govt Type: ['State']\\nSector Name: ['Police']\\nState Department Name: ['Karnataka', 'Home Department, Karnataka', 'Police Department - Police Computer Wing']\\nAI Summary: This catalog entry provides access to crime review data for the year 2025, originating from the Karnataka State Government in India. The dataset, titled 'CRIME REVEIW FOR THE YEAR 2025', focuses on police-related crime review information. The data covers a time period from 2000 to 2025. The dataset is classified under the 'Police' sector and managed by the Karnataka State Government, specifically the Home Department, Police Department - Police Computer Wing. The catalog is not accessible via an API. The data is available from the Karnataka data portal. The dataset is considered a high-value dataset.\",\n",
       "  \"Title: General Election to Lok Sabha 2024 - Statistical Reports Data\\nDescription: The catalog contains cover a range of variables, such as details of PC/AC /State wise electors, number of polling stations, State/ PC wise voter turnout, Party wise vote share, gender-based voting behavior, state wise participation of women electors, regional variations, constituency data summary report, performance of National/ State parties/ RUPPs, winning candidates analysis, constituency wise detailed results and many more.\\r\\n\\nKeywords: ['Voters', 'Election']\\nFrequency: None\\nOpen Government Data Site: ['data.gov.in']Government Type: ['Central']\\nAsset Jurisdiction Name: ['All India']\\nDs Govt Type: ['Central']\\nGroup Name Name: ['General Election', 'Lok Sabha']\\nMinistry Department Name: ['Election Commission of India']\\nSearch Keywords: ['Election Election Election ECI ECI ECI Vote Voter Voters']\\nSector Name: ['Governance and Administration', 'Parliament Of india']\\nAI Summary: This catalog provides comprehensive statistical data related to the General Election to Lok Sabha 2024. It includes details on electors, polling stations, voter turnout, vote share, gender-based voting behavior, state-wise participation of women electors, regional variations, constituency data summaries, performance analysis of National and State parties, winning candidate analysis, and detailed constituency-wise results. The data is sourced from the Election Commission of India and is available through data.gov.in. The catalog is accessible via the provided node_alias. The data covers a specific time range (1736879400 to 1736879400).\"],\n",
       " 'uris': None,\n",
       " 'included': ['metadatas', 'documents', 'embeddings'],\n",
       " 'data': None,\n",
       " 'metadatas': [{'uuid': 'afa77408-8ea8-438b-852c-4853f087b999',\n",
       "   'url': 'https://data.gov.in/catalog/delhi-government-school-details',\n",
       "   'is_api_available': False,\n",
       "   'vid': 13232363,\n",
       "   'title': 'Delhi Government School Details',\n",
       "   'type': 'dataset',\n",
       "   'nid': 603739697,\n",
       "   'interface': 'ogd:catalog'},\n",
       "  {'type': 'dataset',\n",
       "   'title': 'Railway Route Length in Gujarat',\n",
       "   'vid': 13200957,\n",
       "   'nid': 603692558,\n",
       "   'url': 'https://data.gov.in/catalog/railway-route-length-gujarat',\n",
       "   'uuid': 'ef753aab-38e5-47d2-9fa5-e3d635cd9a1e',\n",
       "   'interface': 'ogd:catalog',\n",
       "   'is_api_available': False},\n",
       "  {'url': 'https://data.gov.in/catalog/completed-building-details-ksphidcl',\n",
       "   'nid': 603630037,\n",
       "   'is_api_available': False,\n",
       "   'vid': 13122869,\n",
       "   'type': 'dataset',\n",
       "   'interface': 'ogd:catalog',\n",
       "   'uuid': 'b8cb3c3e-25bc-4a49-9066-033e0068385a',\n",
       "   'title': 'Completed Building Details of KSPH&IDCL'},\n",
       "  {'title': 'Road Statistics of Karnataka State',\n",
       "   'url': 'https://data.gov.in/catalog/road-statistics-karnataka-state',\n",
       "   'uuid': '848af7e0-4c64-4b95-9fb5-343495a463b5',\n",
       "   'type': 'dataset',\n",
       "   'nid': 603628063,\n",
       "   'is_api_available': False,\n",
       "   'interface': 'ogd:catalog',\n",
       "   'vid': 13118093},\n",
       "  {'type': 'dataset',\n",
       "   'nid': 603612688,\n",
       "   'vid': 13131401,\n",
       "   'is_api_available': False,\n",
       "   'uuid': '4b339ac7-18d7-4576-9ea9-95f0501cd612',\n",
       "   'url': 'https://data.gov.in/catalog/banking-statistics-gujarat',\n",
       "   'title': 'Banking Statistics in Gujarat',\n",
       "   'interface': 'ogd:catalog'},\n",
       "  {'nid': 603605165,\n",
       "   'url': 'https://data.gov.in/catalog/livestock-census-gujarat-state',\n",
       "   'title': 'Livestock Census in Gujarat State',\n",
       "   'is_api_available': False,\n",
       "   'uuid': '9166e625-3bea-4d2d-aea7-52cc1b447f08',\n",
       "   'vid': 13115126,\n",
       "   'interface': 'ogd:catalog',\n",
       "   'type': 'dataset'},\n",
       "  {'url': 'https://data.gov.in/catalog/animal-husbandry-and-dairying-statistics-gujarat-state',\n",
       "   'type': 'dataset',\n",
       "   'vid': 13115111,\n",
       "   'nid': 603602804,\n",
       "   'is_api_available': False,\n",
       "   'uuid': '43418445-20f0-44eb-8251-d163bcecf8af',\n",
       "   'interface': 'ogd:catalog',\n",
       "   'title': 'Animal Husbandry and Dairying Statistics in Gujarat State'},\n",
       "  {'uuid': '49cf9a4a-9f02-4931-bd50-2fe432f0bcab',\n",
       "   'type': 'dataset',\n",
       "   'is_api_available': False,\n",
       "   'url': 'https://data.gov.in/catalog/home-guards-actual-strength-year-2023',\n",
       "   'title': 'Home Guards Actual Strength for the year 2023',\n",
       "   'vid': 13083063,\n",
       "   'nid': 603587517,\n",
       "   'interface': 'ogd:catalog'},\n",
       "  {'is_api_available': False,\n",
       "   'uuid': '148a6379-76d6-4652-9817-4676f502247c',\n",
       "   'nid': 603581470,\n",
       "   'url': 'https://data.gov.in/catalog/crime-reveiw-year-2025',\n",
       "   'type': 'dataset',\n",
       "   'interface': 'ogd:catalog',\n",
       "   'vid': 13075617,\n",
       "   'title': 'CRIME REVEIW FOR THE YEAR 2025'},\n",
       "  {'uuid': '560e038e-ce8e-42d5-aab9-e53e1417bd55',\n",
       "   'is_api_available': False,\n",
       "   'interface': 'ogd:catalog',\n",
       "   'vid': 12899980,\n",
       "   'type': 'dataset',\n",
       "   'nid': 603501188,\n",
       "   'title': 'General Election to Lok Sabha 2024 - Statistical Reports Data',\n",
       "   'url': 'https://data.gov.in/catalog/general-election-lok-sabha-2024-statistical-reports-data'}]}"
      ]
     },
     "execution_count": 4,
     "metadata": {},
     "output_type": "execute_result"
    }
   ],
   "source": [
    "datasets.peek()"
   ]
  },
  {
   "cell_type": "code",
   "execution_count": 6,
   "id": "e8721744",
   "metadata": {},
   "outputs": [],
   "source": [
    "def prep_chroma_inputs(catalog):\n",
    "  doc = DocumentAdapter.from_catalog(catalog)\n",
    "  page_content = doc.pop(\"content\")\n",
    "  page_content += f\"\\nAI Summary: {catalog['ai_long_text']}\"\n",
    "  doc_id = f\"ogd:catalog:{doc['uuid']}\"\n",
    "  return {\n",
    "    \"document\": page_content,\n",
    "    \"metadata\": doc,\n",
    "    \"id\": doc_id\n",
    "  }"
   ]
  },
  {
   "cell_type": "code",
   "execution_count": null,
   "id": "bfbd8514",
   "metadata": {},
   "outputs": [
    {
     "data": {
      "text/plain": [
       "{'document': 'Title: Delhi Government School Details\\nDescription: The catalog contains district wise Number of Schools, Student Enrollment , Pass Percentage and Quality Index for Class X and XII \\nKeywords: [\\'student enrollment\\', \\'School\\', \\'Pass Percentage \\']\\nFrequency: Unknown\\nOpen Government Data Site: [\\'delhi.data.gov.in\\']Government Type: None\\nAsset Jurisdiction Name: [\\'Delhi (NCT)\\']\\nGroup Name Name: [\\'School Statistics\\']\\nSector Name: [\\'Education\\']\\nAI Summary: The Delhi Government School Details catalog offers a comprehensive overview of educational institutions within the Delhi National Capital Territory (NCT) of Delhi. This catalog provides district-level data, including the number of schools, student enrollment figures, pass percentages, and a quality index, specifically for Classes X and XII. The data is valuable for researchers, policymakers, and the public seeking insights into the educational landscape of Delhi. The catalog is categorized under \"School Statistics\" and falls under the \"Education\" sector. It was created on [1746003830] and last changed on [1746005477]. The catalog is accessible via the node_alias \\'/catalog/delhi-government-school-details\\'. Note that the API is not available, and the data can be accessed by exploring the linked resources.',\n",
       " 'metadata': {'type': 'dataset',\n",
       "  'url': 'https://data.gov.in/catalog/delhi-government-school-details',\n",
       "  'interface': 'ogd:catalog',\n",
       "  'title': 'Delhi Government School Details',\n",
       "  'uuid': 'afa77408-8ea8-438b-852c-4853f087b999',\n",
       "  'nid': 603739697,\n",
       "  'vid': 13232363,\n",
       "  'is_api_available': False},\n",
       " 'id': 'ogd:catalog:afa77408-8ea8-438b-852c-4853f087b999'}"
      ]
     },
     "execution_count": 7,
     "metadata": {},
     "output_type": "execute_result"
    }
   ],
   "source": [
    "prep_chroma_inputs(ctlgs.find_one({}))"
   ]
  },
  {
   "cell_type": "code",
   "execution_count": 8,
   "id": "f35334e4",
   "metadata": {},
   "outputs": [
    {
     "name": "stderr",
     "output_type": "stream",
     "text": [
      "100%|██████████| 12451/12451 [07:00<00:00, 29.61it/s]\n"
     ]
    }
   ],
   "source": [
    "from tqdm import tqdm\n",
    "\n",
    "BATCH_SIZE = 100\n",
    "documents, metadatas, ids = [], [], []\n",
    "\n",
    "for ctlg in tqdm(ctlgs.find({}), total=12451):\n",
    "    data = prep_chroma_inputs(ctlg)\n",
    "\n",
    "    documents.append(data[\"document\"])\n",
    "    metadatas.append(data[\"metadata\"])\n",
    "    ids.append(data[\"id\"])\n",
    "\n",
    "    if len(ids) >= BATCH_SIZE:\n",
    "        datasets.add(documents=documents, metadatas=metadatas, ids=ids)\n",
    "        documents, metadatas, ids = [], [], []"
   ]
  },
  {
   "cell_type": "code",
   "execution_count": 8,
   "id": "b46de83e",
   "metadata": {},
   "outputs": [
    {
     "data": {
      "text/plain": [
       "0"
      ]
     },
     "execution_count": 8,
     "metadata": {},
     "output_type": "execute_result"
    }
   ],
   "source": [
    "ctlg_rsrcs = list(rsrcs.find({\"catalog_uuid\": ctlg[\"uuid\"]}))\n",
    "len(ctlg_rsrcs)"
   ]
  },
  {
   "cell_type": "code",
   "execution_count": 1,
   "id": "92c559e6",
   "metadata": {},
   "outputs": [],
   "source": [
    "resource_notes = \"\"\"\n",
    "Your job is to write a professional long descripton of the Resource using the following notes on its schema. Highlight it's content, spatio-temporal span, variables, data collection methodology or body, and potential use cases.\n",
    "\n",
    "#### Resrouce Schema Notes\n",
    "##### Schema Note 1: Boolean values respresented as 0 and 1\n",
    "The following fields represent boolean values using '0' or '1':\n",
    "- active — whether the resource is currently active.\n",
    "- visualizable — whether the resource supports visualization (charts, graphs, etc.).\n",
    "- external_ws — indicates whether the data is fetched from an external web service.\n",
    "\n",
    "##### Schema Note 2: Link to Catalogs\n",
    "- catalog_uuid — a reference to the parent catalog this resource belongs to. Use this to group or trace resources back to their catalog definition.\n",
    "\n",
    "##### Schema Note 3: Metadata for temporal tracking\n",
    "Several fields provide timestamps and date information:\n",
    "- created, updated — Unix timestamps indicating creation and last modification time.\n",
    "- created_date, updated_date — ISO 8601 formatted timestamps for the same.\n",
    "- timestamp, data_fetch_date — may be used to track dataset ingestion or updates (usage context dependent).\n",
    "\n",
    "##### Schema Note 4: Schema description of the resource\n",
    "These fields help describe and identify the resource meaningfully:\n",
    "- title — title of the resource.\n",
    "- desc — short description or summary of the resource.\n",
    "- sector — high-level thematic categories (e.g., \"Agriculture\").\n",
    "- source — origin platform or system (e.g., \"data.gov.in\").\n",
    "\n",
    "##### Schema Note 5: Organizational context\n",
    "These fields indicate the governing or contributing organizations:\n",
    "- org — hierarchical list of government organizations involved in the dataset.\n",
    "- org_type — identifies if the organization is Central or State.\n",
    "\n",
    "##### Schema Note 6: Field-level metadata\n",
    "These fields define the schema of the actual data:\n",
    "- field — list of fields present in the resource, each with name, id, and type (e.g., keyword, date).\n",
    "- field_exposed — fields that are exposed via the public API/UI. May include extra metadata such as mandatory, format.\n",
    "- field_dependent — defines hierarchical relationships (e.g., State → District).\n",
    "- order — default sort order of fields for displaying or querying data.\n",
    "- primary_field — may designate the main identifier or dimension (if present).\n",
    "\n",
    "##### Schema Note 7: Internal indexing and linking\n",
    "These fields are primarily used for system indexing, Elasticsearch compatibility, or internal routing and should not be part of user-facing content:\n",
    "- _id, resource_uuid, index_name\n",
    "- target_bucket — includes host, index, type, and internal field mappings.\n",
    "- target_type\n",
    "- query, script, doc, domain, user_id\n",
    "\n",
    "##### Schema Note 8: Resource access and type\n",
    "These fields govern how the resource is accessed and its visibility:\n",
    "- is_public — (if present) whether the resource is public.\n",
    "- public_type — may indicate category/type of public access.\n",
    "- status — current state of the resource (e.g., \"active\", \"deprecated\").\n",
    "- external_ws_url — URL of the external web service if external_ws == 1.\n",
    "\n",
    "#### API Usage Note\n",
    "Resources can be queried directly using their uuid via internal APIs.\n",
    "// data = fetch_records(\"https://api.data.gov.in/resource/{resource_uuid}\") \n",
    "\"\"\""
   ]
  },
  {
   "cell_type": "code",
   "execution_count": 3,
   "id": "d696d1d2",
   "metadata": {},
   "outputs": [],
   "source": [
    "WriteResourceDescription = dspy.Signature(\n",
    "    \"resource_json -> textual_description\",\n",
    "    resource_notes\n",
    ")\n",
    "writer = dspy.ChainOfThought(WriteResourceDescription)"
   ]
  },
  {
   "cell_type": "code",
   "execution_count": 14,
   "id": "c8ffdd9c",
   "metadata": {},
   "outputs": [
    {
     "name": "stdout",
     "output_type": "stream",
     "text": [
      "State/ UT-wise Male  Health Assistant at PHCs as on 31-03-2017\n",
      "\n",
      "This dataset provides a snapshot of Male Health Assistant staffing levels at Primary Health Centers\n",
      "(PHCs) across India as of March 31, 2017. It details the number of sanctioned positions, the number\n",
      "of positions currently filled, and the resulting shortfall in staffing. The data is organized by\n",
      "State/Union Territory and is sourced from data.gov.in. The dataset includes fields for tracking the\n",
      "number of sanctioned positions, positions in actual occupation, and the resulting shortfall,\n",
      "offering insights into the distribution of health professionals within the Indian healthcare system.\n",
      "The data was last updated on November 29, 2018.\n"
     ]
    }
   ],
   "source": [
    "import textwrap\n",
    "\n",
    "rsrc = rsrcs.find_one({\n",
    "    \"source\": {\"$ne\": \"visualize.data.gov.in\"}\n",
    "})\n",
    "print(textwrap.fill(rsrc[\"title\"], width=100))\n",
    "gen = writer(\n",
    "    resource_json=rsrc,\n",
    ")\n",
    "print()\n",
    "print(textwrap.fill(gen.textual_description, width=100))"
   ]
  },
  {
   "cell_type": "code",
   "execution_count": 15,
   "id": "7a3f2ce9",
   "metadata": {},
   "outputs": [
    {
     "data": {
      "text/plain": [
       "277677"
      ]
     },
     "execution_count": 15,
     "metadata": {},
     "output_type": "execute_result"
    }
   ],
   "source": [
    "rsrcs.count_documents({\n",
    "    \"source\": {\"$ne\": \"visualize.data.gov.in\"}\n",
    "})"
   ]
  },
  {
   "cell_type": "code",
   "execution_count": 19,
   "id": "269d0218",
   "metadata": {},
   "outputs": [
    {
     "data": {
      "text/plain": [
       "{'_id': ObjectId('6813b724abbc9676584c53b7'),\n",
       " 'index_name': '50876343-1069-4d70-bb69-9a30172ed48c',\n",
       " 'title': 'State/ UT-wise Male  Health Assistant at PHCs as on 31-03-2017',\n",
       " 'desc': 'State/ UT-wise Male  Health Assistant at PHCs as on 31-03-2017',\n",
       " 'created': 1521789177,\n",
       " 'updated': 1543515042,\n",
       " 'visualizable': '1',\n",
       " 'source': 'data.gov.in',\n",
       " 'org_type': 'Central',\n",
       " 'org': ['Ministry of Health and Family Welfare',\n",
       "  'Department of Health and Family Welfare'],\n",
       " 'sector': ['Health'],\n",
       " 'catalog_uuid': '6efa5981-5ec1-490d-9f9f-07c9a3e3f559',\n",
       " 'status': 1,\n",
       " 'field': [{'id': 'document_id', 'name': 'document_id', 'type': 'double'},\n",
       "  {'id': '_s_no_', 'name': 'S. No.', 'type': 'keyword'},\n",
       "  {'id': 'state_ut', 'name': 'State/ UT', 'type': 'keyword'},\n",
       "  {'id': 'required___r_', 'name': 'Required - [R]', 'type': 'double'},\n",
       "  {'id': 'sanctioned___s_', 'name': 'Sanctioned - [S]', 'type': 'double'},\n",
       "  {'id': 'in_position___p_', 'name': 'In Position - [P]', 'type': 'double'},\n",
       "  {'id': 'vacant___s_p_', 'name': 'Vacant - [S-P]', 'type': 'double'},\n",
       "  {'id': '_shortfall___r_p_', 'name': 'Shortfall - [R-P]', 'type': 'double'},\n",
       "  {'id': 'note_of_state_ut', 'name': 'Note of State/ UT', 'type': 'keyword'},\n",
       "  {'id': 'note_of_vacant___s_p_',\n",
       "   'name': 'Note of Vacant - [S-P]',\n",
       "   'type': 'keyword'},\n",
       "  {'id': 'note_of_shortfall___r_p_',\n",
       "   'name': 'Note of Shortfall - [R-P]',\n",
       "   'type': 'keyword'},\n",
       "  {'id': 'resource_uuid', 'name': 'resource_uuid', 'type': 'keyword'}],\n",
       " 'created_date': '2018-03-23T07:12:57Z',\n",
       " 'updated_date': '2018-11-29T23:40:42Z',\n",
       " 'active': '1',\n",
       " 'external_ws_url': '',\n",
       " 'external_ws': '0'}"
      ]
     },
     "execution_count": 19,
     "metadata": {},
     "output_type": "execute_result"
    }
   ],
   "source": [
    "rsrc"
   ]
  }
 ],
 "metadata": {
  "kernelspec": {
   "display_name": ".venv",
   "language": "python",
   "name": "python3"
  },
  "language_info": {
   "codemirror_mode": {
    "name": "ipython",
    "version": 3
   },
   "file_extension": ".py",
   "mimetype": "text/x-python",
   "name": "python",
   "nbconvert_exporter": "python",
   "pygments_lexer": "ipython3",
   "version": "3.12.8"
  }
 },
 "nbformat": 4,
 "nbformat_minor": 5
}
