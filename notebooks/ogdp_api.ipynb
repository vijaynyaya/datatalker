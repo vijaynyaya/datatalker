{
 "cells": [
  {
   "cell_type": "code",
   "execution_count": 1,
   "id": "e37e4ebf",
   "metadata": {},
   "outputs": [
    {
     "name": "stderr",
     "output_type": "stream",
     "text": [
      "/data102/vijay/datatalker/.venv/lib/python3.12/site-packages/tqdm/auto.py:21: TqdmWarning: IProgress not found. Please update jupyter and ipywidgets. See https://ipywidgets.readthedocs.io/en/stable/user_install.html\n",
      "  from .autonotebook import tqdm as notebook_tqdm\n"
     ]
    }
   ],
   "source": [
    "from datatalker.ogdp import OGDProxy\n",
    "\n",
    "ogd = OGDProxy(api_key=\"579b464db66ec23bdd000001edd87d62b40343d54d7f4653d5d391a7\")"
   ]
  },
  {
   "cell_type": "code",
   "execution_count": null,
   "id": "2ad4a6fe",
   "metadata": {},
   "outputs": [],
   "source": [
    "catalogs = ogd.get_all(ogd.catalogs)"
   ]
  },
  {
   "cell_type": "code",
   "execution_count": null,
   "id": "2d37a59a",
   "metadata": {
    "vscode": {
     "languageId": "shellscript"
    }
   },
   "outputs": [],
   "source": [
    "# sudo docker volume create --driver local --opt device=/data102/.docker/volumes --opt type=none  mongodb_data\n",
    "# docker run --name mongodb -d -p 27017:27017 -v mongodb_data:/data/db mongodb/mongodb-community-server"
   ]
  },
  {
   "cell_type": "code",
   "execution_count": 1,
   "id": "adc77d64",
   "metadata": {},
   "outputs": [],
   "source": [
    "from pymongo import MongoClient\n",
    "client = MongoClient(\"mongodb://localhost:27017/\")"
   ]
  },
  {
   "cell_type": "code",
   "execution_count": 2,
   "id": "6a5c16a4",
   "metadata": {},
   "outputs": [],
   "source": [
    "dt_db = client[\"datatalker\"]\n",
    "ogd_catalogs = dt_db[\"ogd_catalogs\"]"
   ]
  },
  {
   "cell_type": "code",
   "execution_count": null,
   "id": "d40075af",
   "metadata": {},
   "outputs": [],
   "source": [
    "ogd_catalogs.insert_many([\n",
    "    c\n",
    "    for data in catalogs\n",
    "    for c in data[\"data\"][\"rows\"]\n",
    "])"
   ]
  },
  {
   "cell_type": "code",
   "execution_count": 4,
   "id": "cff153ce",
   "metadata": {},
   "outputs": [],
   "source": [
    "unique_keys = set()\n",
    "for doc in ogd_catalogs.find():\n",
    "    unique_keys.update(doc.keys())"
   ]
  },
  {
   "cell_type": "code",
   "execution_count": 5,
   "id": "d0d8c324",
   "metadata": {},
   "outputs": [
    {
     "data": {
      "text/plain": [
       "{'_freq_wise_not_updated',\n",
       " '_freq_wise_schedule',\n",
       " '_freq_wise_total_resources',\n",
       " '_freq_wise_updated',\n",
       " '_id',\n",
       " 'api_request_count',\n",
       " 'body:value',\n",
       " 'changed',\n",
       " 'created',\n",
       " 'data_source',\n",
       " 'data_time_period_from',\n",
       " 'data_time_period_to',\n",
       " 'field_asset_jurisdiction:name',\n",
       " 'field_ds_govt_type',\n",
       " 'field_group_name:name',\n",
       " 'field_ministry_department:name',\n",
       " 'field_search_keywords',\n",
       " 'field_sector:name',\n",
       " 'field_state_department:name',\n",
       " 'frequency',\n",
       " 'frequency_data_series',\n",
       " 'from_api',\n",
       " 'govt_type',\n",
       " 'having_api',\n",
       " 'high_value_dataset',\n",
       " 'is_api_available',\n",
       " 'is_priced',\n",
       " 'is_webservice',\n",
       " 'keywords',\n",
       " 'nid',\n",
       " 'node_alias',\n",
       " 'ogdp_custom_field',\n",
       " 'ogdp_view_count',\n",
       " 'ogpl_module_domain_access',\n",
       " 'ogpl_module_domain_name',\n",
       " 'published_date',\n",
       " 'search_api_datasource',\n",
       " 'search_api_id',\n",
       " 'search_api_language',\n",
       " 'title',\n",
       " 'uuid',\n",
       " 'vid',\n",
       " 'view_count'}"
      ]
     },
     "execution_count": 5,
     "metadata": {},
     "output_type": "execute_result"
    }
   ],
   "source": [
    "unique_keys"
   ]
  },
  {
   "cell_type": "code",
   "execution_count": 6,
   "id": "2d13d3a4",
   "metadata": {},
   "outputs": [
    {
     "data": {
      "text/plain": [
       "12451"
      ]
     },
     "execution_count": 6,
     "metadata": {},
     "output_type": "execute_result"
    }
   ],
   "source": [
    "ogd_catalogs.count_documents({})"
   ]
  },
  {
   "cell_type": "code",
   "execution_count": 4,
   "id": "321c0925",
   "metadata": {},
   "outputs": [],
   "source": [
    "resources = ogd.get_all(ogd.resources)"
   ]
  },
  {
   "cell_type": "code",
   "execution_count": 8,
   "id": "9df9411b",
   "metadata": {},
   "outputs": [],
   "source": [
    "rsrc_docs = [\n",
    "    record\n",
    "    for resp in resources\n",
    "    for record in resp[\"records\"]\n",
    "]"
   ]
  },
  {
   "cell_type": "code",
   "execution_count": 10,
   "id": "d3aa0da7",
   "metadata": {},
   "outputs": [
    {
     "data": {
      "text/plain": [
       "282122"
      ]
     },
     "execution_count": 10,
     "metadata": {},
     "output_type": "execute_result"
    }
   ],
   "source": [
    "len(rsrc_docs)"
   ]
  },
  {
   "cell_type": "code",
   "execution_count": 3,
   "id": "a98bbfec",
   "metadata": {},
   "outputs": [],
   "source": [
    "ogd_resources = dt_db[\"ogd_resources\"]"
   ]
  },
  {
   "cell_type": "code",
   "execution_count": 13,
   "id": "c70f7ea9",
   "metadata": {},
   "outputs": [],
   "source": [
    "ogd_resources.drop()"
   ]
  },
  {
   "cell_type": "code",
   "execution_count": null,
   "id": "89f2e93f",
   "metadata": {},
   "outputs": [],
   "source": [
    "failures = list()\n",
    "for doc in rsrc_docs:\n",
    "  try:\n",
    "    ogd_resources.insert_one(doc)\n",
    "  except:\n",
    "    failures.append(doc)"
   ]
  },
  {
   "cell_type": "code",
   "execution_count": null,
   "id": "e6a6f569",
   "metadata": {},
   "outputs": [],
   "source": [
    "len(failures)"
   ]
  },
  {
   "cell_type": "code",
   "execution_count": 4,
   "id": "5de8b78e",
   "metadata": {},
   "outputs": [
    {
     "data": {
      "text/plain": [
       "282118"
      ]
     },
     "execution_count": 4,
     "metadata": {},
     "output_type": "execute_result"
    }
   ],
   "source": [
    "ogd_resources.count_documents({})"
   ]
  },
  {
   "cell_type": "code",
   "execution_count": 11,
   "id": "24170271",
   "metadata": {},
   "outputs": [
    {
     "ename": "OperationFailure",
     "evalue": "BSONObj size: 34892398 (0x2146A6E) is invalid. Size must be between 0 and 16793600(16MB) First element: _id: ObjectId('6813b725abbc9676584d2a43'), full error: {'ok': 0.0, 'errmsg': \"BSONObj size: 34892398 (0x2146A6E) is invalid. Size must be between 0 and 16793600(16MB) First element: _id: ObjectId('6813b725abbc9676584d2a43')\", 'code': 10334, 'codeName': 'BSONObjectTooLarge'}",
     "output_type": "error",
     "traceback": [
      "\u001b[31m---------------------------------------------------------------------------\u001b[39m",
      "\u001b[31mOperationFailure\u001b[39m                          Traceback (most recent call last)",
      "\u001b[36mCell\u001b[39m\u001b[36m \u001b[39m\u001b[32mIn[11]\u001b[39m\u001b[32m, line 1\u001b[39m\n\u001b[32m----> \u001b[39m\u001b[32m1\u001b[39m \u001b[43mogd_resources\u001b[49m\u001b[43m.\u001b[49m\u001b[43minsert_many\u001b[49m\u001b[43m(\u001b[49m\u001b[43mrsrc_docs\u001b[49m\u001b[43m)\u001b[49m\n",
      "\u001b[36mFile \u001b[39m\u001b[32m/data102/vijay/datatalker/.venv/lib/python3.12/site-packages/pymongo/_csot.py:119\u001b[39m, in \u001b[36mapply.<locals>.csot_wrapper\u001b[39m\u001b[34m(self, *args, **kwargs)\u001b[39m\n\u001b[32m    117\u001b[39m         \u001b[38;5;28;01mwith\u001b[39;00m _TimeoutContext(timeout):\n\u001b[32m    118\u001b[39m             \u001b[38;5;28;01mreturn\u001b[39;00m func(\u001b[38;5;28mself\u001b[39m, *args, **kwargs)\n\u001b[32m--> \u001b[39m\u001b[32m119\u001b[39m \u001b[38;5;28;01mreturn\u001b[39;00m \u001b[43mfunc\u001b[49m\u001b[43m(\u001b[49m\u001b[38;5;28;43mself\u001b[39;49m\u001b[43m,\u001b[49m\u001b[43m \u001b[49m\u001b[43m*\u001b[49m\u001b[43margs\u001b[49m\u001b[43m,\u001b[49m\u001b[43m \u001b[49m\u001b[43m*\u001b[49m\u001b[43m*\u001b[49m\u001b[43mkwargs\u001b[49m\u001b[43m)\u001b[49m\n",
      "\u001b[36mFile \u001b[39m\u001b[32m/data102/vijay/datatalker/.venv/lib/python3.12/site-packages/pymongo/synchronous/collection.py:975\u001b[39m, in \u001b[36mCollection.insert_many\u001b[39m\u001b[34m(self, documents, ordered, bypass_document_validation, session, comment)\u001b[39m\n\u001b[32m    973\u001b[39m blk = _Bulk(\u001b[38;5;28mself\u001b[39m, ordered, bypass_document_validation, comment=comment)\n\u001b[32m    974\u001b[39m blk.ops = \u001b[38;5;28mlist\u001b[39m(gen())\n\u001b[32m--> \u001b[39m\u001b[32m975\u001b[39m \u001b[43mblk\u001b[49m\u001b[43m.\u001b[49m\u001b[43mexecute\u001b[49m\u001b[43m(\u001b[49m\u001b[43mwrite_concern\u001b[49m\u001b[43m,\u001b[49m\u001b[43m \u001b[49m\u001b[43msession\u001b[49m\u001b[43m,\u001b[49m\u001b[43m \u001b[49m\u001b[43m_Op\u001b[49m\u001b[43m.\u001b[49m\u001b[43mINSERT\u001b[49m\u001b[43m)\u001b[49m\n\u001b[32m    976\u001b[39m \u001b[38;5;28;01mreturn\u001b[39;00m InsertManyResult(inserted_ids, write_concern.acknowledged)\n",
      "\u001b[36mFile \u001b[39m\u001b[32m/data102/vijay/datatalker/.venv/lib/python3.12/site-packages/pymongo/synchronous/bulk.py:751\u001b[39m, in \u001b[36m_Bulk.execute\u001b[39m\u001b[34m(self, write_concern, session, operation)\u001b[39m\n\u001b[32m    749\u001b[39m         \u001b[38;5;28;01mreturn\u001b[39;00m \u001b[38;5;28;01mNone\u001b[39;00m\n\u001b[32m    750\u001b[39m \u001b[38;5;28;01melse\u001b[39;00m:\n\u001b[32m--> \u001b[39m\u001b[32m751\u001b[39m     \u001b[38;5;28;01mreturn\u001b[39;00m \u001b[38;5;28;43mself\u001b[39;49m\u001b[43m.\u001b[49m\u001b[43mexecute_command\u001b[49m\u001b[43m(\u001b[49m\u001b[43mgenerator\u001b[49m\u001b[43m,\u001b[49m\u001b[43m \u001b[49m\u001b[43mwrite_concern\u001b[49m\u001b[43m,\u001b[49m\u001b[43m \u001b[49m\u001b[43msession\u001b[49m\u001b[43m,\u001b[49m\u001b[43m \u001b[49m\u001b[43moperation\u001b[49m\u001b[43m)\u001b[49m\n",
      "\u001b[36mFile \u001b[39m\u001b[32m/data102/vijay/datatalker/.venv/lib/python3.12/site-packages/pymongo/synchronous/bulk.py:604\u001b[39m, in \u001b[36m_Bulk.execute_command\u001b[39m\u001b[34m(self, generator, write_concern, session, operation)\u001b[39m\n\u001b[32m    593\u001b[39m     \u001b[38;5;28mself\u001b[39m._execute_command(\n\u001b[32m    594\u001b[39m         generator,\n\u001b[32m    595\u001b[39m         write_concern,\n\u001b[32m   (...)\u001b[39m\u001b[32m    600\u001b[39m         full_result,\n\u001b[32m    601\u001b[39m     )\n\u001b[32m    603\u001b[39m client = \u001b[38;5;28mself\u001b[39m.collection.database.client\n\u001b[32m--> \u001b[39m\u001b[32m604\u001b[39m _ = \u001b[43mclient\u001b[49m\u001b[43m.\u001b[49m\u001b[43m_retryable_write\u001b[49m\u001b[43m(\u001b[49m\n\u001b[32m    605\u001b[39m \u001b[43m    \u001b[49m\u001b[38;5;28;43mself\u001b[39;49m\u001b[43m.\u001b[49m\u001b[43mis_retryable\u001b[49m\u001b[43m,\u001b[49m\n\u001b[32m    606\u001b[39m \u001b[43m    \u001b[49m\u001b[43mretryable_bulk\u001b[49m\u001b[43m,\u001b[49m\n\u001b[32m    607\u001b[39m \u001b[43m    \u001b[49m\u001b[43msession\u001b[49m\u001b[43m,\u001b[49m\n\u001b[32m    608\u001b[39m \u001b[43m    \u001b[49m\u001b[43moperation\u001b[49m\u001b[43m,\u001b[49m\n\u001b[32m    609\u001b[39m \u001b[43m    \u001b[49m\u001b[43mbulk\u001b[49m\u001b[43m=\u001b[49m\u001b[38;5;28;43mself\u001b[39;49m\u001b[43m,\u001b[49m\u001b[43m  \u001b[49m\u001b[38;5;66;43;03m# type: ignore[arg-type]\u001b[39;49;00m\n\u001b[32m    610\u001b[39m \u001b[43m    \u001b[49m\u001b[43moperation_id\u001b[49m\u001b[43m=\u001b[49m\u001b[43mop_id\u001b[49m\u001b[43m,\u001b[49m\n\u001b[32m    611\u001b[39m \u001b[43m\u001b[49m\u001b[43m)\u001b[49m\n\u001b[32m    613\u001b[39m \u001b[38;5;28;01mif\u001b[39;00m full_result[\u001b[33m\"\u001b[39m\u001b[33mwriteErrors\u001b[39m\u001b[33m\"\u001b[39m] \u001b[38;5;129;01mor\u001b[39;00m full_result[\u001b[33m\"\u001b[39m\u001b[33mwriteConcernErrors\u001b[39m\u001b[33m\"\u001b[39m]:\n\u001b[32m    614\u001b[39m     _raise_bulk_write_error(full_result)\n",
      "\u001b[36mFile \u001b[39m\u001b[32m/data102/vijay/datatalker/.venv/lib/python3.12/site-packages/pymongo/synchronous/mongo_client.py:2061\u001b[39m, in \u001b[36mMongoClient._retryable_write\u001b[39m\u001b[34m(self, retryable, func, session, operation, bulk, operation_id)\u001b[39m\n\u001b[32m   2047\u001b[39m \u001b[38;5;250m\u001b[39m\u001b[33;03m\"\"\"Execute an operation with consecutive retries if possible\u001b[39;00m\n\u001b[32m   2048\u001b[39m \n\u001b[32m   2049\u001b[39m \u001b[33;03mReturns func()'s return value on success. On error retries the same\u001b[39;00m\n\u001b[32m   (...)\u001b[39m\u001b[32m   2058\u001b[39m \u001b[33;03m:param bulk: bulk abstraction to execute operations in bulk, defaults to None\u001b[39;00m\n\u001b[32m   2059\u001b[39m \u001b[33;03m\"\"\"\u001b[39;00m\n\u001b[32m   2060\u001b[39m \u001b[38;5;28;01mwith\u001b[39;00m \u001b[38;5;28mself\u001b[39m._tmp_session(session) \u001b[38;5;28;01mas\u001b[39;00m s:\n\u001b[32m-> \u001b[39m\u001b[32m2061\u001b[39m     \u001b[38;5;28;01mreturn\u001b[39;00m \u001b[38;5;28;43mself\u001b[39;49m\u001b[43m.\u001b[49m\u001b[43m_retry_with_session\u001b[49m\u001b[43m(\u001b[49m\u001b[43mretryable\u001b[49m\u001b[43m,\u001b[49m\u001b[43m \u001b[49m\u001b[43mfunc\u001b[49m\u001b[43m,\u001b[49m\u001b[43m \u001b[49m\u001b[43ms\u001b[49m\u001b[43m,\u001b[49m\u001b[43m \u001b[49m\u001b[43mbulk\u001b[49m\u001b[43m,\u001b[49m\u001b[43m \u001b[49m\u001b[43moperation\u001b[49m\u001b[43m,\u001b[49m\u001b[43m \u001b[49m\u001b[43moperation_id\u001b[49m\u001b[43m)\u001b[49m\n",
      "\u001b[36mFile \u001b[39m\u001b[32m/data102/vijay/datatalker/.venv/lib/python3.12/site-packages/pymongo/synchronous/mongo_client.py:1947\u001b[39m, in \u001b[36mMongoClient._retry_with_session\u001b[39m\u001b[34m(self, retryable, func, session, bulk, operation, operation_id)\u001b[39m\n\u001b[32m   1942\u001b[39m \u001b[38;5;66;03m# Ensure that the options supports retry_writes and there is a valid session not in\u001b[39;00m\n\u001b[32m   1943\u001b[39m \u001b[38;5;66;03m# transaction, otherwise, we will not support retry behavior for this txn.\u001b[39;00m\n\u001b[32m   1944\u001b[39m retryable = \u001b[38;5;28mbool\u001b[39m(\n\u001b[32m   1945\u001b[39m     retryable \u001b[38;5;129;01mand\u001b[39;00m \u001b[38;5;28mself\u001b[39m.options.retry_writes \u001b[38;5;129;01mand\u001b[39;00m session \u001b[38;5;129;01mand\u001b[39;00m \u001b[38;5;129;01mnot\u001b[39;00m session.in_transaction\n\u001b[32m   1946\u001b[39m )\n\u001b[32m-> \u001b[39m\u001b[32m1947\u001b[39m \u001b[38;5;28;01mreturn\u001b[39;00m \u001b[38;5;28;43mself\u001b[39;49m\u001b[43m.\u001b[49m\u001b[43m_retry_internal\u001b[49m\u001b[43m(\u001b[49m\n\u001b[32m   1948\u001b[39m \u001b[43m    \u001b[49m\u001b[43mfunc\u001b[49m\u001b[43m=\u001b[49m\u001b[43mfunc\u001b[49m\u001b[43m,\u001b[49m\n\u001b[32m   1949\u001b[39m \u001b[43m    \u001b[49m\u001b[43msession\u001b[49m\u001b[43m=\u001b[49m\u001b[43msession\u001b[49m\u001b[43m,\u001b[49m\n\u001b[32m   1950\u001b[39m \u001b[43m    \u001b[49m\u001b[43mbulk\u001b[49m\u001b[43m=\u001b[49m\u001b[43mbulk\u001b[49m\u001b[43m,\u001b[49m\n\u001b[32m   1951\u001b[39m \u001b[43m    \u001b[49m\u001b[43moperation\u001b[49m\u001b[43m=\u001b[49m\u001b[43moperation\u001b[49m\u001b[43m,\u001b[49m\n\u001b[32m   1952\u001b[39m \u001b[43m    \u001b[49m\u001b[43mretryable\u001b[49m\u001b[43m=\u001b[49m\u001b[43mretryable\u001b[49m\u001b[43m,\u001b[49m\n\u001b[32m   1953\u001b[39m \u001b[43m    \u001b[49m\u001b[43moperation_id\u001b[49m\u001b[43m=\u001b[49m\u001b[43moperation_id\u001b[49m\u001b[43m,\u001b[49m\n\u001b[32m   1954\u001b[39m \u001b[43m\u001b[49m\u001b[43m)\u001b[49m\n",
      "\u001b[36mFile \u001b[39m\u001b[32m/data102/vijay/datatalker/.venv/lib/python3.12/site-packages/pymongo/_csot.py:119\u001b[39m, in \u001b[36mapply.<locals>.csot_wrapper\u001b[39m\u001b[34m(self, *args, **kwargs)\u001b[39m\n\u001b[32m    117\u001b[39m         \u001b[38;5;28;01mwith\u001b[39;00m _TimeoutContext(timeout):\n\u001b[32m    118\u001b[39m             \u001b[38;5;28;01mreturn\u001b[39;00m func(\u001b[38;5;28mself\u001b[39m, *args, **kwargs)\n\u001b[32m--> \u001b[39m\u001b[32m119\u001b[39m \u001b[38;5;28;01mreturn\u001b[39;00m \u001b[43mfunc\u001b[49m\u001b[43m(\u001b[49m\u001b[38;5;28;43mself\u001b[39;49m\u001b[43m,\u001b[49m\u001b[43m \u001b[49m\u001b[43m*\u001b[49m\u001b[43margs\u001b[49m\u001b[43m,\u001b[49m\u001b[43m \u001b[49m\u001b[43m*\u001b[49m\u001b[43m*\u001b[49m\u001b[43mkwargs\u001b[49m\u001b[43m)\u001b[49m\n",
      "\u001b[36mFile \u001b[39m\u001b[32m/data102/vijay/datatalker/.venv/lib/python3.12/site-packages/pymongo/synchronous/mongo_client.py:1993\u001b[39m, in \u001b[36mMongoClient._retry_internal\u001b[39m\u001b[34m(self, func, session, bulk, operation, is_read, address, read_pref, retryable, operation_id)\u001b[39m\n\u001b[32m   1956\u001b[39m \u001b[38;5;129m@_csot\u001b[39m.apply\n\u001b[32m   1957\u001b[39m \u001b[38;5;28;01mdef\u001b[39;00m\u001b[38;5;250m \u001b[39m\u001b[34m_retry_internal\u001b[39m(\n\u001b[32m   1958\u001b[39m     \u001b[38;5;28mself\u001b[39m,\n\u001b[32m   (...)\u001b[39m\u001b[32m   1967\u001b[39m     operation_id: Optional[\u001b[38;5;28mint\u001b[39m] = \u001b[38;5;28;01mNone\u001b[39;00m,\n\u001b[32m   1968\u001b[39m ) -> T:\n\u001b[32m   1969\u001b[39m \u001b[38;5;250m    \u001b[39m\u001b[33;03m\"\"\"Internal retryable helper for all client transactions.\u001b[39;00m\n\u001b[32m   1970\u001b[39m \n\u001b[32m   1971\u001b[39m \u001b[33;03m    :param func: Callback function we want to retry\u001b[39;00m\n\u001b[32m   (...)\u001b[39m\u001b[32m   1980\u001b[39m \u001b[33;03m    :return: Output of the calling func()\u001b[39;00m\n\u001b[32m   1981\u001b[39m \u001b[33;03m    \"\"\"\u001b[39;00m\n\u001b[32m   1982\u001b[39m     \u001b[38;5;28;01mreturn\u001b[39;00m \u001b[43m_ClientConnectionRetryable\u001b[49m\u001b[43m(\u001b[49m\n\u001b[32m   1983\u001b[39m \u001b[43m        \u001b[49m\u001b[43mmongo_client\u001b[49m\u001b[43m=\u001b[49m\u001b[38;5;28;43mself\u001b[39;49m\u001b[43m,\u001b[49m\n\u001b[32m   1984\u001b[39m \u001b[43m        \u001b[49m\u001b[43mfunc\u001b[49m\u001b[43m=\u001b[49m\u001b[43mfunc\u001b[49m\u001b[43m,\u001b[49m\n\u001b[32m   1985\u001b[39m \u001b[43m        \u001b[49m\u001b[43mbulk\u001b[49m\u001b[43m=\u001b[49m\u001b[43mbulk\u001b[49m\u001b[43m,\u001b[49m\n\u001b[32m   1986\u001b[39m \u001b[43m        \u001b[49m\u001b[43moperation\u001b[49m\u001b[43m=\u001b[49m\u001b[43moperation\u001b[49m\u001b[43m,\u001b[49m\n\u001b[32m   1987\u001b[39m \u001b[43m        \u001b[49m\u001b[43mis_read\u001b[49m\u001b[43m=\u001b[49m\u001b[43mis_read\u001b[49m\u001b[43m,\u001b[49m\n\u001b[32m   1988\u001b[39m \u001b[43m        \u001b[49m\u001b[43msession\u001b[49m\u001b[43m=\u001b[49m\u001b[43msession\u001b[49m\u001b[43m,\u001b[49m\n\u001b[32m   1989\u001b[39m \u001b[43m        \u001b[49m\u001b[43mread_pref\u001b[49m\u001b[43m=\u001b[49m\u001b[43mread_pref\u001b[49m\u001b[43m,\u001b[49m\n\u001b[32m   1990\u001b[39m \u001b[43m        \u001b[49m\u001b[43maddress\u001b[49m\u001b[43m=\u001b[49m\u001b[43maddress\u001b[49m\u001b[43m,\u001b[49m\n\u001b[32m   1991\u001b[39m \u001b[43m        \u001b[49m\u001b[43mretryable\u001b[49m\u001b[43m=\u001b[49m\u001b[43mretryable\u001b[49m\u001b[43m,\u001b[49m\n\u001b[32m   1992\u001b[39m \u001b[43m        \u001b[49m\u001b[43moperation_id\u001b[49m\u001b[43m=\u001b[49m\u001b[43moperation_id\u001b[49m\u001b[43m,\u001b[49m\n\u001b[32m-> \u001b[39m\u001b[32m1993\u001b[39m \u001b[43m    \u001b[49m\u001b[43m)\u001b[49m\u001b[43m.\u001b[49m\u001b[43mrun\u001b[49m\u001b[43m(\u001b[49m\u001b[43m)\u001b[49m\n",
      "\u001b[36mFile \u001b[39m\u001b[32m/data102/vijay/datatalker/.venv/lib/python3.12/site-packages/pymongo/synchronous/mongo_client.py:2730\u001b[39m, in \u001b[36m_ClientConnectionRetryable.run\u001b[39m\u001b[34m(self)\u001b[39m\n\u001b[32m   2728\u001b[39m \u001b[38;5;28mself\u001b[39m._check_last_error(check_csot=\u001b[38;5;28;01mTrue\u001b[39;00m)\n\u001b[32m   2729\u001b[39m \u001b[38;5;28;01mtry\u001b[39;00m:\n\u001b[32m-> \u001b[39m\u001b[32m2730\u001b[39m     \u001b[38;5;28;01mreturn\u001b[39;00m \u001b[38;5;28mself\u001b[39m._read() \u001b[38;5;28;01mif\u001b[39;00m \u001b[38;5;28mself\u001b[39m._is_read \u001b[38;5;28;01melse\u001b[39;00m \u001b[38;5;28;43mself\u001b[39;49m\u001b[43m.\u001b[49m\u001b[43m_write\u001b[49m\u001b[43m(\u001b[49m\u001b[43m)\u001b[49m\n\u001b[32m   2731\u001b[39m \u001b[38;5;28;01mexcept\u001b[39;00m ServerSelectionTimeoutError:\n\u001b[32m   2732\u001b[39m     \u001b[38;5;66;03m# The application may think the write was never attempted\u001b[39;00m\n\u001b[32m   2733\u001b[39m     \u001b[38;5;66;03m# if we raise ServerSelectionTimeoutError on the retry\u001b[39;00m\n\u001b[32m   2734\u001b[39m     \u001b[38;5;66;03m# attempt. Raise the original exception instead.\u001b[39;00m\n\u001b[32m   2735\u001b[39m     \u001b[38;5;28mself\u001b[39m._check_last_error()\n",
      "\u001b[36mFile \u001b[39m\u001b[32m/data102/vijay/datatalker/.venv/lib/python3.12/site-packages/pymongo/synchronous/mongo_client.py:2862\u001b[39m, in \u001b[36m_ClientConnectionRetryable._write\u001b[39m\u001b[34m(self)\u001b[39m\n\u001b[32m   2854\u001b[39m         \u001b[38;5;28;01mif\u001b[39;00m \u001b[38;5;28mself\u001b[39m._retrying:\n\u001b[32m   2855\u001b[39m             _debug_log(\n\u001b[32m   2856\u001b[39m                 _COMMAND_LOGGER,\n\u001b[32m   2857\u001b[39m                 message=\u001b[33mf\u001b[39m\u001b[33m\"\u001b[39m\u001b[33mRetrying write attempt number \u001b[39m\u001b[38;5;132;01m{\u001b[39;00m\u001b[38;5;28mself\u001b[39m._attempt_number\u001b[38;5;132;01m}\u001b[39;00m\u001b[33m\"\u001b[39m,\n\u001b[32m   (...)\u001b[39m\u001b[32m   2860\u001b[39m                 operationId=\u001b[38;5;28mself\u001b[39m._operation_id,\n\u001b[32m   2861\u001b[39m             )\n\u001b[32m-> \u001b[39m\u001b[32m2862\u001b[39m         \u001b[38;5;28;01mreturn\u001b[39;00m \u001b[38;5;28;43mself\u001b[39;49m\u001b[43m.\u001b[49m\u001b[43m_func\u001b[49m\u001b[43m(\u001b[49m\u001b[38;5;28;43mself\u001b[39;49m\u001b[43m.\u001b[49m\u001b[43m_session\u001b[49m\u001b[43m,\u001b[49m\u001b[43m \u001b[49m\u001b[43mconn\u001b[49m\u001b[43m,\u001b[49m\u001b[43m \u001b[49m\u001b[38;5;28;43mself\u001b[39;49m\u001b[43m.\u001b[49m\u001b[43m_retryable\u001b[49m\u001b[43m)\u001b[49m  \u001b[38;5;66;03m# type: ignore\u001b[39;00m\n\u001b[32m   2863\u001b[39m \u001b[38;5;28;01mexcept\u001b[39;00m PyMongoError \u001b[38;5;28;01mas\u001b[39;00m exc:\n\u001b[32m   2864\u001b[39m     \u001b[38;5;28;01mif\u001b[39;00m \u001b[38;5;129;01mnot\u001b[39;00m \u001b[38;5;28mself\u001b[39m._retryable:\n",
      "\u001b[36mFile \u001b[39m\u001b[32m/data102/vijay/datatalker/.venv/lib/python3.12/site-packages/pymongo/synchronous/bulk.py:593\u001b[39m, in \u001b[36m_Bulk.execute_command.<locals>.retryable_bulk\u001b[39m\u001b[34m(session, conn, retryable)\u001b[39m\n\u001b[32m    590\u001b[39m \u001b[38;5;28;01mdef\u001b[39;00m\u001b[38;5;250m \u001b[39m\u001b[34mretryable_bulk\u001b[39m(\n\u001b[32m    591\u001b[39m     session: Optional[ClientSession], conn: Connection, retryable: \u001b[38;5;28mbool\u001b[39m\n\u001b[32m    592\u001b[39m ) -> \u001b[38;5;28;01mNone\u001b[39;00m:\n\u001b[32m--> \u001b[39m\u001b[32m593\u001b[39m     \u001b[38;5;28;43mself\u001b[39;49m\u001b[43m.\u001b[49m\u001b[43m_execute_command\u001b[49m\u001b[43m(\u001b[49m\n\u001b[32m    594\u001b[39m \u001b[43m        \u001b[49m\u001b[43mgenerator\u001b[49m\u001b[43m,\u001b[49m\n\u001b[32m    595\u001b[39m \u001b[43m        \u001b[49m\u001b[43mwrite_concern\u001b[49m\u001b[43m,\u001b[49m\n\u001b[32m    596\u001b[39m \u001b[43m        \u001b[49m\u001b[43msession\u001b[49m\u001b[43m,\u001b[49m\n\u001b[32m    597\u001b[39m \u001b[43m        \u001b[49m\u001b[43mconn\u001b[49m\u001b[43m,\u001b[49m\n\u001b[32m    598\u001b[39m \u001b[43m        \u001b[49m\u001b[43mop_id\u001b[49m\u001b[43m,\u001b[49m\n\u001b[32m    599\u001b[39m \u001b[43m        \u001b[49m\u001b[43mretryable\u001b[49m\u001b[43m,\u001b[49m\n\u001b[32m    600\u001b[39m \u001b[43m        \u001b[49m\u001b[43mfull_result\u001b[49m\u001b[43m,\u001b[49m\n\u001b[32m    601\u001b[39m \u001b[43m    \u001b[49m\u001b[43m)\u001b[49m\n",
      "\u001b[36mFile \u001b[39m\u001b[32m/data102/vijay/datatalker/.venv/lib/python3.12/site-packages/pymongo/synchronous/bulk.py:538\u001b[39m, in \u001b[36m_Bulk._execute_command\u001b[39m\u001b[34m(self, generator, write_concern, session, conn, op_id, retryable, full_result, final_write_concern)\u001b[39m\n\u001b[32m    536\u001b[39m \u001b[38;5;66;03m# Run as many ops as possible in one command.\u001b[39;00m\n\u001b[32m    537\u001b[39m \u001b[38;5;28;01mif\u001b[39;00m write_concern.acknowledged:\n\u001b[32m--> \u001b[39m\u001b[32m538\u001b[39m     result, to_send = \u001b[38;5;28;43mself\u001b[39;49m\u001b[43m.\u001b[49m\u001b[43m_execute_batch\u001b[49m\u001b[43m(\u001b[49m\u001b[43mbwc\u001b[49m\u001b[43m,\u001b[49m\u001b[43m \u001b[49m\u001b[43mcmd\u001b[49m\u001b[43m,\u001b[49m\u001b[43m \u001b[49m\u001b[43mops\u001b[49m\u001b[43m,\u001b[49m\u001b[43m \u001b[49m\u001b[43mclient\u001b[49m\u001b[43m)\u001b[49m\n\u001b[32m    540\u001b[39m     \u001b[38;5;66;03m# Retryable writeConcernErrors halt the execution of this run.\u001b[39;00m\n\u001b[32m    541\u001b[39m     wce = result.get(\u001b[33m\"\u001b[39m\u001b[33mwriteConcernError\u001b[39m\u001b[33m\"\u001b[39m, {})\n",
      "\u001b[36mFile \u001b[39m\u001b[32m/data102/vijay/datatalker/.venv/lib/python3.12/site-packages/pymongo/synchronous/bulk.py:462\u001b[39m, in \u001b[36m_Bulk._execute_batch\u001b[39m\u001b[34m(self, bwc, cmd, ops, client)\u001b[39m\n\u001b[32m    460\u001b[39m \u001b[38;5;28;01melse\u001b[39;00m:\n\u001b[32m    461\u001b[39m     request_id, msg, to_send = bwc.batch_command(cmd, ops)\n\u001b[32m--> \u001b[39m\u001b[32m462\u001b[39m     result = \u001b[38;5;28;43mself\u001b[39;49m\u001b[43m.\u001b[49m\u001b[43mwrite_command\u001b[49m\u001b[43m(\u001b[49m\u001b[43mbwc\u001b[49m\u001b[43m,\u001b[49m\u001b[43m \u001b[49m\u001b[43mcmd\u001b[49m\u001b[43m,\u001b[49m\u001b[43m \u001b[49m\u001b[43mrequest_id\u001b[49m\u001b[43m,\u001b[49m\u001b[43m \u001b[49m\u001b[43mmsg\u001b[49m\u001b[43m,\u001b[49m\u001b[43m \u001b[49m\u001b[43mto_send\u001b[49m\u001b[43m,\u001b[49m\u001b[43m \u001b[49m\u001b[43mclient\u001b[49m\u001b[43m)\u001b[49m  \u001b[38;5;66;03m# type: ignore[arg-type]\u001b[39;00m\n\u001b[32m    464\u001b[39m \u001b[38;5;28;01mreturn\u001b[39;00m result, to_send\n",
      "\u001b[36mFile \u001b[39m\u001b[32m/data102/vijay/datatalker/.venv/lib/python3.12/site-packages/pymongo/synchronous/helpers.py:47\u001b[39m, in \u001b[36m_handle_reauth.<locals>.inner\u001b[39m\u001b[34m(*args, **kwargs)\u001b[39m\n\u001b[32m     44\u001b[39m \u001b[38;5;28;01mfrom\u001b[39;00m\u001b[38;5;250m \u001b[39m\u001b[34;01mpymongo\u001b[39;00m\u001b[34;01m.\u001b[39;00m\u001b[34;01msynchronous\u001b[39;00m\u001b[34;01m.\u001b[39;00m\u001b[34;01mpool\u001b[39;00m\u001b[38;5;250m \u001b[39m\u001b[38;5;28;01mimport\u001b[39;00m Connection\n\u001b[32m     46\u001b[39m \u001b[38;5;28;01mtry\u001b[39;00m:\n\u001b[32m---> \u001b[39m\u001b[32m47\u001b[39m     \u001b[38;5;28;01mreturn\u001b[39;00m \u001b[43mfunc\u001b[49m\u001b[43m(\u001b[49m\u001b[43m*\u001b[49m\u001b[43margs\u001b[49m\u001b[43m,\u001b[49m\u001b[43m \u001b[49m\u001b[43m*\u001b[49m\u001b[43m*\u001b[49m\u001b[43mkwargs\u001b[49m\u001b[43m)\u001b[49m\n\u001b[32m     48\u001b[39m \u001b[38;5;28;01mexcept\u001b[39;00m OperationFailure \u001b[38;5;28;01mas\u001b[39;00m exc:\n\u001b[32m     49\u001b[39m     \u001b[38;5;28;01mif\u001b[39;00m no_reauth:\n",
      "\u001b[36mFile \u001b[39m\u001b[32m/data102/vijay/datatalker/.venv/lib/python3.12/site-packages/pymongo/synchronous/bulk.py:274\u001b[39m, in \u001b[36m_Bulk.write_command\u001b[39m\u001b[34m(self, bwc, cmd, request_id, msg, docs, client)\u001b[39m\n\u001b[32m    272\u001b[39m     bwc._start(cmd, request_id, docs)\n\u001b[32m    273\u001b[39m \u001b[38;5;28;01mtry\u001b[39;00m:\n\u001b[32m--> \u001b[39m\u001b[32m274\u001b[39m     reply = \u001b[43mbwc\u001b[49m\u001b[43m.\u001b[49m\u001b[43mconn\u001b[49m\u001b[43m.\u001b[49m\u001b[43mwrite_command\u001b[49m\u001b[43m(\u001b[49m\u001b[43mrequest_id\u001b[49m\u001b[43m,\u001b[49m\u001b[43m \u001b[49m\u001b[43mmsg\u001b[49m\u001b[43m,\u001b[49m\u001b[43m \u001b[49m\u001b[43mbwc\u001b[49m\u001b[43m.\u001b[49m\u001b[43mcodec\u001b[49m\u001b[43m)\u001b[49m  \u001b[38;5;66;03m# type: ignore[misc]\u001b[39;00m\n\u001b[32m    275\u001b[39m     duration = datetime.datetime.now() - bwc.start_time\n\u001b[32m    276\u001b[39m     \u001b[38;5;28;01mif\u001b[39;00m _COMMAND_LOGGER.isEnabledFor(logging.DEBUG):\n",
      "\u001b[36mFile \u001b[39m\u001b[32m/data102/vijay/datatalker/.venv/lib/python3.12/site-packages/pymongo/synchronous/pool.py:503\u001b[39m, in \u001b[36mConnection.write_command\u001b[39m\u001b[34m(self, request_id, msg, codec_options)\u001b[39m\n\u001b[32m    500\u001b[39m result = reply.command_response(codec_options)\n\u001b[32m    502\u001b[39m \u001b[38;5;66;03m# Raises NotPrimaryError or OperationFailure.\u001b[39;00m\n\u001b[32m--> \u001b[39m\u001b[32m503\u001b[39m \u001b[43mhelpers_shared\u001b[49m\u001b[43m.\u001b[49m\u001b[43m_check_command_response\u001b[49m\u001b[43m(\u001b[49m\u001b[43mresult\u001b[49m\u001b[43m,\u001b[49m\u001b[43m \u001b[49m\u001b[38;5;28;43mself\u001b[39;49m\u001b[43m.\u001b[49m\u001b[43mmax_wire_version\u001b[49m\u001b[43m)\u001b[49m\n\u001b[32m    504\u001b[39m \u001b[38;5;28;01mreturn\u001b[39;00m result\n",
      "\u001b[36mFile \u001b[39m\u001b[32m/data102/vijay/datatalker/.venv/lib/python3.12/site-packages/pymongo/helpers_shared.py:250\u001b[39m, in \u001b[36m_check_command_response\u001b[39m\u001b[34m(response, max_wire_version, allowable_errors, parse_write_concern_error)\u001b[39m\n\u001b[32m    247\u001b[39m \u001b[38;5;28;01melif\u001b[39;00m code == \u001b[32m43\u001b[39m:\n\u001b[32m    248\u001b[39m     \u001b[38;5;28;01mraise\u001b[39;00m CursorNotFound(errmsg, code, response, max_wire_version)\n\u001b[32m--> \u001b[39m\u001b[32m250\u001b[39m \u001b[38;5;28;01mraise\u001b[39;00m OperationFailure(errmsg, code, response, max_wire_version)\n",
      "\u001b[31mOperationFailure\u001b[39m: BSONObj size: 34892398 (0x2146A6E) is invalid. Size must be between 0 and 16793600(16MB) First element: _id: ObjectId('6813b725abbc9676584d2a43'), full error: {'ok': 0.0, 'errmsg': \"BSONObj size: 34892398 (0x2146A6E) is invalid. Size must be between 0 and 16793600(16MB) First element: _id: ObjectId('6813b725abbc9676584d2a43')\", 'code': 10334, 'codeName': 'BSONObjectTooLarge'}"
     ]
    }
   ],
   "source": [
    "ogd_resources.insert_many(rsrc_docs)"
   ]
  },
  {
   "cell_type": "code",
   "execution_count": null,
   "id": "93afe90d",
   "metadata": {},
   "outputs": [],
   "source": [
    "catalog_uuids = ogd_catalogs.distinct(\"uuid\")\n",
    "len(catalog_uuids)"
   ]
  },
  {
   "cell_type": "code",
   "execution_count": null,
   "id": "c5ebf2a1",
   "metadata": {},
   "outputs": [],
   "source": [
    "from multiprocessing import cpu_count, Pool\n",
    "import requests\n",
    "\n",
    "def get_data(uuid: str, _):\n",
    "  return requests.get(\n",
    "    f\"https://api.data.gov.in/catalog/{uuid}\",\n",
    "    params={\n",
    "      \"format\": \"json\",\n",
    "      \"offset\": 0,\n",
    "      \"limit\": 1,\n",
    "      \"api-key\": \"579b464db66ec23bdd000001edd87d62b40343d54d7f4653d5d391a7\"\n",
    "    }\n",
    "  )\n",
    "\n",
    "with Pool(2) as pool:\n",
    "  args = [\n",
    "    (uuid, True)\n",
    "    for uuid in catalog_uuids\n",
    "  ]\n",
    "  responses = pool.starmap(get_data, args)"
   ]
  },
  {
   "cell_type": "code",
   "execution_count": null,
   "id": "43accf5d",
   "metadata": {},
   "outputs": [],
   "source": [
    "import os\n",
    "from urllib.parse import urlparse\n",
    "\n",
    "os.path.basename(urlparse(responses[0].request.url).path)"
   ]
  },
  {
   "cell_type": "code",
   "execution_count": null,
   "id": "c03fa274",
   "metadata": {},
   "outputs": [],
   "source": [
    "catalog_metadatas = {\n",
    "  os.path.basename(urlparse(responses[0].request.url).path): r.json()\n",
    "  for r in responses\n",
    "}"
   ]
  },
  {
   "cell_type": "code",
   "execution_count": null,
   "id": "10e20d0f",
   "metadata": {},
   "outputs": [],
   "source": [
    "ogd_catalogs_meta = dt_db[\"ogd_catalogs_meta\"]"
   ]
  },
  {
   "cell_type": "code",
   "execution_count": null,
   "id": "a580d6cf",
   "metadata": {},
   "outputs": [],
   "source": [
    "for uuid, metadata in catalog_metadatas.items():\n",
    "    metadata[\"catalog_uuid\"] = uuid\n",
    "    ogd_catalogs_meta.insert_one(metadata)"
   ]
  },
  {
   "cell_type": "code",
   "execution_count": null,
   "id": "bde67927",
   "metadata": {},
   "outputs": [],
   "source": [
    "ogd_catalogs_meta.drop()"
   ]
  },
  {
   "cell_type": "code",
   "execution_count": null,
   "id": "40b36c7f",
   "metadata": {},
   "outputs": [],
   "source": [
    "ogd_catalogs_meta.distinct(\"message\")"
   ]
  },
  {
   "cell_type": "code",
   "execution_count": null,
   "id": "5a9708d6",
   "metadata": {},
   "outputs": [],
   "source": [
    "for a in ogd_catalogs_meta.find({\"status\": { \"$ne\": \"error\"}}):\n",
    "  print(a)"
   ]
  },
  {
   "cell_type": "code",
   "execution_count": null,
   "id": "0c03f818",
   "metadata": {},
   "outputs": [],
   "source": [
    "from IPython.display import HTML\n",
    "HTML(failed[-1].text)"
   ]
  }
 ],
 "metadata": {
  "kernelspec": {
   "display_name": ".venv",
   "language": "python",
   "name": "python3"
  },
  "language_info": {
   "codemirror_mode": {
    "name": "ipython",
    "version": 3
   },
   "file_extension": ".py",
   "mimetype": "text/x-python",
   "name": "python",
   "nbconvert_exporter": "python",
   "pygments_lexer": "ipython3",
   "version": "3.12.8"
  }
 },
 "nbformat": 4,
 "nbformat_minor": 5
}
