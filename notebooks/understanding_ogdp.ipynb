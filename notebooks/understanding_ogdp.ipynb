{
 "cells": [
  {
   "cell_type": "code",
   "execution_count": 1,
   "id": "e37e4ebf",
   "metadata": {},
   "outputs": [
    {
     "name": "stderr",
     "output_type": "stream",
     "text": [
      "/data102/vijay/datatalker/.venv/lib/python3.12/site-packages/tqdm/auto.py:21: TqdmWarning: IProgress not found. Please update jupyter and ipywidgets. See https://ipywidgets.readthedocs.io/en/stable/user_install.html\n",
      "  from .autonotebook import tqdm as notebook_tqdm\n"
     ]
    }
   ],
   "source": [
    "from datatalker.ogdp import OGDProxy, DocumentAdapter\n",
    "from pymongo import MongoClient\n",
    "\n",
    "ogd = OGDProxy(api_key=\"579b464db66ec23bdd000001edd87d62b40343d54d7f4653d5d391a7\")\n",
    "client = MongoClient(\"mongodb://localhost:27017/\")"
   ]
  },
  {
   "cell_type": "code",
   "execution_count": 2,
   "id": "2d37a59a",
   "metadata": {
    "vscode": {
     "languageId": "shellscript"
    }
   },
   "outputs": [],
   "source": [
    "# sudo docker volume create --driver local --opt device=/data102/.docker/volumes --opt type=none  mongodb_data\n",
    "# docker run --name mongodb -d -p 27017:27017 -v mongodb_data:/data/db mongodb/mongodb-community-server"
   ]
  },
  {
   "cell_type": "code",
   "execution_count": 3,
   "id": "6a5c16a4",
   "metadata": {},
   "outputs": [],
   "source": [
    "db = client[\"datatalker\"]\n",
    "ctlgs = db[\"ogd_catalogs\"]\n",
    "rsrcs = db[\"ogd_resources\"]"
   ]
  },
  {
   "cell_type": "markdown",
   "id": "f9274cb6",
   "metadata": {},
   "source": [
    "## Using Catalogs"
   ]
  },
  {
   "cell_type": "code",
   "execution_count": 4,
   "id": "373bad4a",
   "metadata": {},
   "outputs": [],
   "source": [
    "ctlg_ignore_keys = [\n",
    " '_freq_wise_not_updated',\n",
    " '_freq_wise_schedule',\n",
    " '_freq_wise_total_resources',\n",
    " '_freq_wise_updated',\n",
    " '_id',\n",
    " 'api_request_count',\n",
    " \n",
    "]"
   ]
  },
  {
   "cell_type": "code",
   "execution_count": 5,
   "id": "c0d9dc60",
   "metadata": {},
   "outputs": [],
   "source": [
    "ctlg = ctlgs.find_one({\"uuid\": \"6141ea17-a69d-4713-b600-0a43c8fd9a6c\"})"
   ]
  },
  {
   "cell_type": "code",
   "execution_count": 6,
   "id": "9d627d89",
   "metadata": {},
   "outputs": [
    {
     "data": {
      "text/plain": [
       "{'type': 'dataset',\n",
       " 'website': 'https://data.gov.in/catalog/current-daily-price-various-commodities-various-markets-mandi',\n",
       " 'interface': 'ogd:catalog',\n",
       " 'title': 'Current daily price of various commodities from various markets (Mandi)',\n",
       " 'content': \"Title: Current daily price of various commodities from various markets (Mandi)\\nDescription: The data refers to prices of various commodities. It has the wholesale maximum price, minimum price and modal price on daily basis. This dataset is generated through the AGMARKNET Portal (http://agmarknet.gov.in), which disseminates daily market information of various commodities.\\nKeywords: ['mandi', 'Price', 'Agriculture', 'Commodity', 'Market', 'Rate']\\nFrequency: Daily\\nData Source: None\\nOpen Government Data Site: ['data.gov.in']Government Type: ['Central']\\nAsset Jurisdiction Name: ['All India']\\nDs Govt Type: ['Central']\\nGroup Name Name: ['Agricultural Marketing']\\nMinistry Department Name: ['Ministry of Agriculture and Farmers Welfare', 'Department of Agriculture and Farmers Welfare', 'Directorate of Marketing and Inspection (DMI)']\\nSector Name: ['Agriculture', 'Agricultural Marketing']\",\n",
       " 'metadata': {'_id': ObjectId('6813021260284fbf048a3df2'),\n",
       "  'api_request_count': [2],\n",
       "  'having_api': [1],\n",
       "  'high_value_dataset': [1],\n",
       "  'is_api_available': [0],\n",
       "  'is_priced': [0],\n",
       "  'is_webservice': [1],\n",
       "  'node_alias': ['/catalog/current-daily-price-various-commodities-various-markets-mandi'],\n",
       "  'ogdp_custom_field': ['test'],\n",
       "  'ogdp_view_count': [1292388],\n",
       "  'published_date': [1369368430],\n",
       "  'body:value': ['The data refers to prices of various commodities. It has the wholesale maximum price, minimum price and modal price on daily basis. This dataset is generated through the AGMARKNET Portal (http://agmarknet.gov.in), which disseminates daily market information of various commodities.'],\n",
       "  'changed': [1746068420],\n",
       "  'created': [1369290300],\n",
       "  'field_asset_jurisdiction:name': ['All India'],\n",
       "  'field_ds_govt_type': ['Central'],\n",
       "  'field_group_name:name': ['Agricultural Marketing'],\n",
       "  'field_ministry_department:name': ['Ministry of Agriculture and Farmers Welfare',\n",
       "   'Department of Agriculture and Farmers Welfare',\n",
       "   'Directorate of Marketing and Inspection (DMI)'],\n",
       "  'field_sector:name': ['Agriculture', 'Agricultural Marketing'],\n",
       "  'from_api': ['1'],\n",
       "  'govt_type': ['Central'],\n",
       "  'keywords': ['mandi', 'Price', 'Agriculture', 'Commodity', 'Market', 'Rate'],\n",
       "  'nid': [86944],\n",
       "  'ogpl_module_domain_access': ['4', '4'],\n",
       "  'ogpl_module_domain_name': ['data.gov.in'],\n",
       "  'title': ['Current daily price of various commodities from various markets (Mandi)'],\n",
       "  'uuid': ['6141ea17-a69d-4713-b600-0a43c8fd9a6c'],\n",
       "  'vid': [12726161],\n",
       "  'view_count': [1280866],\n",
       "  'search_api_id': ['entity:node/86944:en'],\n",
       "  'search_api_datasource': ['entity:node'],\n",
       "  'search_api_language': ['en'],\n",
       "  '_freq_wise_not_updated': [0],\n",
       "  '_freq_wise_schedule': [1],\n",
       "  'data_time_period_from': 1716229800,\n",
       "  '_freq_wise_updated': [2],\n",
       "  '_freq_wise_total_resources': [2],\n",
       "  'data_time_period_to': 1716229800,\n",
       "  'frequency': ['Daily'],\n",
       "  'frequency_data_series': [{'data': [{'x': 'Range',\n",
       "      'y': [1716229800, 1716229800]}]}]}}"
      ]
     },
     "execution_count": 6,
     "metadata": {},
     "output_type": "execute_result"
    }
   ],
   "source": [
    "DocumentAdapter.from_catalog(ctlg)"
   ]
  },
  {
   "cell_type": "code",
   "execution_count": 6,
   "id": "1c6b2605",
   "metadata": {},
   "outputs": [
    {
     "data": {
      "text/plain": [
       "{'_freq_wise_not_updated',\n",
       " '_freq_wise_schedule',\n",
       " '_freq_wise_total_resources',\n",
       " '_freq_wise_updated',\n",
       " '_id',\n",
       " 'api_request_count',\n",
       " 'body:value',\n",
       " 'changed',\n",
       " 'created',\n",
       " 'data_source',\n",
       " 'data_time_period_from',\n",
       " 'data_time_period_to',\n",
       " 'field_asset_jurisdiction:name',\n",
       " 'field_ds_govt_type',\n",
       " 'field_group_name:name',\n",
       " 'field_ministry_department:name',\n",
       " 'field_search_keywords',\n",
       " 'field_sector:name',\n",
       " 'field_state_department:name',\n",
       " 'frequency',\n",
       " 'frequency_data_series',\n",
       " 'from_api',\n",
       " 'govt_type',\n",
       " 'having_api',\n",
       " 'high_value_dataset',\n",
       " 'is_api_available',\n",
       " 'is_priced',\n",
       " 'is_webservice',\n",
       " 'keywords',\n",
       " 'nid',\n",
       " 'node_alias',\n",
       " 'ogdp_custom_field',\n",
       " 'ogdp_view_count',\n",
       " 'ogpl_module_domain_access',\n",
       " 'ogpl_module_domain_name',\n",
       " 'published_date',\n",
       " 'search_api_datasource',\n",
       " 'search_api_id',\n",
       " 'search_api_language',\n",
       " 'title',\n",
       " 'uuid',\n",
       " 'vid',\n",
       " 'view_count'}"
      ]
     },
     "execution_count": 6,
     "metadata": {},
     "output_type": "execute_result"
    }
   ],
   "source": [
    "ctlg_unique_keys = set()\n",
    "for doc in ctlgs.find():\n",
    "    ctlg_unique_keys.update(doc.keys())\n",
    "ctlg_unique_keys"
   ]
  },
  {
   "cell_type": "markdown",
   "id": "e08a4ae7",
   "metadata": {},
   "source": [
    "## Using Resources"
   ]
  },
  {
   "cell_type": "code",
   "execution_count": 7,
   "id": "8fe596ed",
   "metadata": {},
   "outputs": [
    {
     "data": {
      "text/plain": [
       "{'_id',\n",
       " 'active',\n",
       " 'aggregation',\n",
       " 'catalog_uuid',\n",
       " 'created',\n",
       " 'created_date',\n",
       " 'data_fetch_date',\n",
       " 'default_sort',\n",
       " 'desc',\n",
       " 'doc',\n",
       " 'domain',\n",
       " 'external_ws',\n",
       " 'external_ws_url',\n",
       " 'field',\n",
       " 'field_dependent',\n",
       " 'field_exposed',\n",
       " 'field_name',\n",
       " 'index_name',\n",
       " 'is_public',\n",
       " 'order',\n",
       " 'org',\n",
       " 'org_type',\n",
       " 'primary_field',\n",
       " 'public_type',\n",
       " 'query',\n",
       " 'resource_uuid',\n",
       " 'script',\n",
       " 'sector',\n",
       " 'source',\n",
       " 'status',\n",
       " 'target_bucket',\n",
       " 'target_type',\n",
       " 'timestamp',\n",
       " 'title',\n",
       " 'type',\n",
       " 'updated',\n",
       " 'updated_date',\n",
       " 'user_id',\n",
       " 'visualizable'}"
      ]
     },
     "execution_count": 7,
     "metadata": {},
     "output_type": "execute_result"
    }
   ],
   "source": [
    "rsrc_uniq_keys = set()\n",
    "for doc in rsrcs.find():\n",
    "    rsrc_uniq_keys.update(doc.keys())\n",
    "rsrc_uniq_keys"
   ]
  }
 ],
 "metadata": {
  "kernelspec": {
   "display_name": ".venv",
   "language": "python",
   "name": "python3"
  },
  "language_info": {
   "codemirror_mode": {
    "name": "ipython",
    "version": 3
   },
   "file_extension": ".py",
   "mimetype": "text/x-python",
   "name": "python",
   "nbconvert_exporter": "python",
   "pygments_lexer": "ipython3",
   "version": "3.12.8"
  }
 },
 "nbformat": 4,
 "nbformat_minor": 5
}
